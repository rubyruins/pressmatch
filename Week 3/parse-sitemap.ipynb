{
 "cells": [
  {
   "cell_type": "code",
   "execution_count": 1,
   "metadata": {},
   "outputs": [
    {
     "name": "stdout",
     "output_type": "stream",
     "text": [
      "Requirement already satisfied: bs4 in c:\\users\\acer\\anaconda3\\envs\\specrom\\lib\\site-packages (0.0.1)\n",
      "Requirement already satisfied: beautifulsoup4 in c:\\users\\acer\\anaconda3\\envs\\specrom\\lib\\site-packages (from bs4) (4.9.3)\n",
      "Requirement already satisfied: soupsieve>1.2; python_version >= \"3.0\" in c:\\users\\acer\\anaconda3\\envs\\specrom\\lib\\site-packages (from beautifulsoup4->bs4) (2.2.1)\n",
      "Note: you may need to restart the kernel to use updated packages.\n"
     ]
    }
   ],
   "source": [
    "pip install bs4"
   ]
  },
  {
   "cell_type": "code",
   "execution_count": 2,
   "metadata": {},
   "outputs": [],
   "source": [
    "from bs4 import BeautifulSoup\n",
    "import requests\n",
    "import pandas as pd"
   ]
  },
  {
   "cell_type": "code",
   "execution_count": 3,
   "metadata": {},
   "outputs": [],
   "source": [
    "r = requests.get(\"https://muckrack.com/sitemap.xml\")\n",
    "xml = r.text\n",
    "soup = BeautifulSoup(xml)\n",
    "sitemapTags = [i.findAll('loc')[0].text for i in soup.find_all(\"sitemap\") if 'sitemap-person' in str(i)]"
   ]
  },
  {
   "cell_type": "code",
   "execution_count": 4,
   "metadata": {},
   "outputs": [],
   "source": [
    "muckrack = pd.DataFrame (columns = ['last_modified', 'url'])"
   ]
  },
  {
   "cell_type": "code",
   "execution_count": 5,
   "metadata": {
    "scrolled": true
   },
   "outputs": [
    {
     "name": "stdout",
     "output_type": "stream",
     "text": [
      "https://muckrack.com/sitemaps/sitemap-person-1.xml\n",
      "https://muckrack.com/sitemaps/sitemap-person-2.xml\n",
      "https://muckrack.com/sitemaps/sitemap-person-3.xml\n",
      "https://muckrack.com/sitemaps/sitemap-person-4.xml\n",
      "https://muckrack.com/sitemaps/sitemap-person-5.xml\n",
      "https://muckrack.com/sitemaps/sitemap-person-6.xml\n",
      "https://muckrack.com/sitemaps/sitemap-person-7.xml\n",
      "https://muckrack.com/sitemaps/sitemap-person-8.xml\n",
      "https://muckrack.com/sitemaps/sitemap-person-9.xml\n",
      "https://muckrack.com/sitemaps/sitemap-person-10.xml\n",
      "https://muckrack.com/sitemaps/sitemap-person-11.xml\n",
      "https://muckrack.com/sitemaps/sitemap-person-12.xml\n",
      "https://muckrack.com/sitemaps/sitemap-person-13.xml\n",
      "https://muckrack.com/sitemaps/sitemap-person-14.xml\n",
      "https://muckrack.com/sitemaps/sitemap-person-15.xml\n",
      "https://muckrack.com/sitemaps/sitemap-person-16.xml\n",
      "https://muckrack.com/sitemaps/sitemap-person-17.xml\n",
      "https://muckrack.com/sitemaps/sitemap-person-18.xml\n",
      "https://muckrack.com/sitemaps/sitemap-person-19.xml\n",
      "https://muckrack.com/sitemaps/sitemap-person-20.xml\n",
      "https://muckrack.com/sitemaps/sitemap-person-21.xml\n",
      "https://muckrack.com/sitemaps/sitemap-person-22.xml\n",
      "https://muckrack.com/sitemaps/sitemap-person-23.xml\n",
      "https://muckrack.com/sitemaps/sitemap-person-24.xml\n",
      "https://muckrack.com/sitemaps/sitemap-person-25.xml\n",
      "https://muckrack.com/sitemaps/sitemap-person-26.xml\n",
      "https://muckrack.com/sitemaps/sitemap-person-27.xml\n",
      "https://muckrack.com/sitemaps/sitemap-person-28.xml\n",
      "https://muckrack.com/sitemaps/sitemap-person-29.xml\n",
      "https://muckrack.com/sitemaps/sitemap-person-30.xml\n",
      "https://muckrack.com/sitemaps/sitemap-person-31.xml\n",
      "https://muckrack.com/sitemaps/sitemap-person-32.xml\n",
      "https://muckrack.com/sitemaps/sitemap-person-33.xml\n",
      "https://muckrack.com/sitemaps/sitemap-person-34.xml\n",
      "https://muckrack.com/sitemaps/sitemap-person-35.xml\n",
      "https://muckrack.com/sitemaps/sitemap-person-36.xml\n",
      "https://muckrack.com/sitemaps/sitemap-person-37.xml\n",
      "https://muckrack.com/sitemaps/sitemap-person-38.xml\n",
      "https://muckrack.com/sitemaps/sitemap-person-39.xml\n",
      "https://muckrack.com/sitemaps/sitemap-person-40.xml\n",
      "https://muckrack.com/sitemaps/sitemap-person-41.xml\n",
      "https://muckrack.com/sitemaps/sitemap-person-42.xml\n",
      "https://muckrack.com/sitemaps/sitemap-person-43.xml\n",
      "https://muckrack.com/sitemaps/sitemap-person-44.xml\n",
      "https://muckrack.com/sitemaps/sitemap-person-45.xml\n",
      "https://muckrack.com/sitemaps/sitemap-person-46.xml\n",
      "https://muckrack.com/sitemaps/sitemap-person-47.xml\n",
      "https://muckrack.com/sitemaps/sitemap-person-48.xml\n",
      "https://muckrack.com/sitemaps/sitemap-person-49.xml\n",
      "https://muckrack.com/sitemaps/sitemap-person-50.xml\n",
      "https://muckrack.com/sitemaps/sitemap-person-51.xml\n",
      "https://muckrack.com/sitemaps/sitemap-person-52.xml\n",
      "https://muckrack.com/sitemaps/sitemap-person-53.xml\n",
      "https://muckrack.com/sitemaps/sitemap-person-54.xml\n",
      "https://muckrack.com/sitemaps/sitemap-person-55.xml\n",
      "https://muckrack.com/sitemaps/sitemap-person-56.xml\n",
      "https://muckrack.com/sitemaps/sitemap-person-57.xml\n",
      "https://muckrack.com/sitemaps/sitemap-person-58.xml\n",
      "https://muckrack.com/sitemaps/sitemap-person-59.xml\n",
      "https://muckrack.com/sitemaps/sitemap-person-60.xml\n",
      "https://muckrack.com/sitemaps/sitemap-person-61.xml\n",
      "https://muckrack.com/sitemaps/sitemap-person-62.xml\n",
      "https://muckrack.com/sitemaps/sitemap-person-63.xml\n",
      "https://muckrack.com/sitemaps/sitemap-person-64.xml\n",
      "https://muckrack.com/sitemaps/sitemap-person-65.xml\n",
      "https://muckrack.com/sitemaps/sitemap-person-66.xml\n",
      "https://muckrack.com/sitemaps/sitemap-person-67.xml\n",
      "https://muckrack.com/sitemaps/sitemap-person-68.xml\n",
      "https://muckrack.com/sitemaps/sitemap-person-69.xml\n",
      "https://muckrack.com/sitemaps/sitemap-person-70.xml\n",
      "https://muckrack.com/sitemaps/sitemap-person-71.xml\n",
      "https://muckrack.com/sitemaps/sitemap-person-72.xml\n",
      "https://muckrack.com/sitemaps/sitemap-person-73.xml\n",
      "https://muckrack.com/sitemaps/sitemap-person-74.xml\n"
     ]
    }
   ],
   "source": [
    "for sitemapTag in sitemapTags:\n",
    "    print(sitemapTag)\n",
    "    r = requests.get(sitemapTag)\n",
    "    xml = r.text\n",
    "    soup = BeautifulSoup(xml)\n",
    "    for i in soup.findAll('url'):\n",
    "        row = pd.Series(list([i.findAll('lastmod')[0].text, i.findAll('loc')[0].text]), index = muckrack.columns)\n",
    "        print(row)\n",
    "        muckrack = muckrack.append(row, ignore_index = True) "
   ]
  },
  {
   "cell_type": "code",
   "execution_count": 12,
   "metadata": {},
   "outputs": [],
   "source": [
    "for i in soup.findAll('url'):\n",
    "    row = pd.Series(list([i.findAll('lastmod')[0].text, i.findAll('loc')[0].text]), index = muckrack.columns)\n",
    "    print(row)"
   ]
  },
  {
   "cell_type": "code",
   "execution_count": 13,
   "metadata": {},
   "outputs": [
    {
     "data": {
      "text/plain": [
       "[]"
      ]
     },
     "execution_count": 13,
     "metadata": {},
     "output_type": "execute_result"
    }
   ],
   "source": [
    "soup.findAll('url')"
   ]
  },
  {
   "cell_type": "code",
   "execution_count": 6,
   "metadata": {},
   "outputs": [
    {
     "data": {
      "text/html": [
       "<div>\n",
       "<style scoped>\n",
       "    .dataframe tbody tr th:only-of-type {\n",
       "        vertical-align: middle;\n",
       "    }\n",
       "\n",
       "    .dataframe tbody tr th {\n",
       "        vertical-align: top;\n",
       "    }\n",
       "\n",
       "    .dataframe thead th {\n",
       "        text-align: right;\n",
       "    }\n",
       "</style>\n",
       "<table border=\"1\" class=\"dataframe\">\n",
       "  <thead>\n",
       "    <tr style=\"text-align: right;\">\n",
       "      <th></th>\n",
       "      <th>last_modified</th>\n",
       "      <th>url</th>\n",
       "    </tr>\n",
       "  </thead>\n",
       "  <tbody>\n",
       "  </tbody>\n",
       "</table>\n",
       "</div>"
      ],
      "text/plain": [
       "Empty DataFrame\n",
       "Columns: [last_modified, url]\n",
       "Index: []"
      ]
     },
     "execution_count": 6,
     "metadata": {},
     "output_type": "execute_result"
    }
   ],
   "source": [
    "muckrack"
   ]
  },
  {
   "cell_type": "code",
   "execution_count": 7,
   "metadata": {
    "scrolled": true
   },
   "outputs": [
    {
     "ename": "ImportError",
     "evalue": "Missing optional dependency 'fsspec'.  Use pip or conda to install fsspec.",
     "output_type": "error",
     "traceback": [
      "\u001b[1;31m---------------------------------------------------------------------------\u001b[0m",
      "\u001b[1;31mImportError\u001b[0m                               Traceback (most recent call last)",
      "\u001b[1;32m<ipython-input-7-afc3385cd843>\u001b[0m in \u001b[0;36m<module>\u001b[1;34m\u001b[0m\n\u001b[1;32m----> 1\u001b[1;33m \u001b[0mmuckrack\u001b[0m\u001b[1;33m.\u001b[0m\u001b[0mto_csv\u001b[0m\u001b[1;33m(\u001b[0m\u001b[1;34m'C://Users//ACER//Downloads//Internships//Pressmatch//Data//muckrack_persons_fetchlist.csv'\u001b[0m\u001b[1;33m)\u001b[0m\u001b[1;33m\u001b[0m\u001b[1;33m\u001b[0m\u001b[0m\n\u001b[0m",
      "\u001b[1;32m~\\anaconda3\\envs\\specrom\\lib\\site-packages\\pandas\\core\\generic.py\u001b[0m in \u001b[0;36mto_csv\u001b[1;34m(self, path_or_buf, sep, na_rep, float_format, columns, header, index, index_label, mode, encoding, compression, quoting, quotechar, line_terminator, chunksize, date_format, doublequote, escapechar, decimal, errors, storage_options)\u001b[0m\n\u001b[0;32m   3461\u001b[0m         )\n\u001b[0;32m   3462\u001b[0m \u001b[1;33m\u001b[0m\u001b[0m\n\u001b[1;32m-> 3463\u001b[1;33m         return DataFrameRenderer(formatter).to_csv(\n\u001b[0m\u001b[0;32m   3464\u001b[0m             \u001b[0mpath_or_buf\u001b[0m\u001b[1;33m,\u001b[0m\u001b[1;33m\u001b[0m\u001b[1;33m\u001b[0m\u001b[0m\n\u001b[0;32m   3465\u001b[0m             \u001b[0mline_terminator\u001b[0m\u001b[1;33m=\u001b[0m\u001b[0mline_terminator\u001b[0m\u001b[1;33m,\u001b[0m\u001b[1;33m\u001b[0m\u001b[1;33m\u001b[0m\u001b[0m\n",
      "\u001b[1;32m~\\anaconda3\\envs\\specrom\\lib\\site-packages\\pandas\\io\\formats\\format.py\u001b[0m in \u001b[0;36mto_csv\u001b[1;34m(self, path_or_buf, encoding, sep, columns, index_label, mode, compression, quoting, quotechar, line_terminator, chunksize, date_format, doublequote, escapechar, errors, storage_options)\u001b[0m\n\u001b[0;32m   1103\u001b[0m             \u001b[0mformatter\u001b[0m\u001b[1;33m=\u001b[0m\u001b[0mself\u001b[0m\u001b[1;33m.\u001b[0m\u001b[0mfmt\u001b[0m\u001b[1;33m,\u001b[0m\u001b[1;33m\u001b[0m\u001b[1;33m\u001b[0m\u001b[0m\n\u001b[0;32m   1104\u001b[0m         )\n\u001b[1;32m-> 1105\u001b[1;33m         \u001b[0mcsv_formatter\u001b[0m\u001b[1;33m.\u001b[0m\u001b[0msave\u001b[0m\u001b[1;33m(\u001b[0m\u001b[1;33m)\u001b[0m\u001b[1;33m\u001b[0m\u001b[1;33m\u001b[0m\u001b[0m\n\u001b[0m\u001b[0;32m   1106\u001b[0m \u001b[1;33m\u001b[0m\u001b[0m\n\u001b[0;32m   1107\u001b[0m         \u001b[1;32mif\u001b[0m \u001b[0mcreated_buffer\u001b[0m\u001b[1;33m:\u001b[0m\u001b[1;33m\u001b[0m\u001b[1;33m\u001b[0m\u001b[0m\n",
      "\u001b[1;32m~\\anaconda3\\envs\\specrom\\lib\\site-packages\\pandas\\io\\formats\\csvs.py\u001b[0m in \u001b[0;36msave\u001b[1;34m(self)\u001b[0m\n\u001b[0;32m    235\u001b[0m         \"\"\"\n\u001b[0;32m    236\u001b[0m         \u001b[1;31m# apply compression and byte/text conversion\u001b[0m\u001b[1;33m\u001b[0m\u001b[1;33m\u001b[0m\u001b[1;33m\u001b[0m\u001b[0m\n\u001b[1;32m--> 237\u001b[1;33m         with get_handle(\n\u001b[0m\u001b[0;32m    238\u001b[0m             \u001b[0mself\u001b[0m\u001b[1;33m.\u001b[0m\u001b[0mfilepath_or_buffer\u001b[0m\u001b[1;33m,\u001b[0m\u001b[1;33m\u001b[0m\u001b[1;33m\u001b[0m\u001b[0m\n\u001b[0;32m    239\u001b[0m             \u001b[0mself\u001b[0m\u001b[1;33m.\u001b[0m\u001b[0mmode\u001b[0m\u001b[1;33m,\u001b[0m\u001b[1;33m\u001b[0m\u001b[1;33m\u001b[0m\u001b[0m\n",
      "\u001b[1;32m~\\anaconda3\\envs\\specrom\\lib\\site-packages\\pandas\\io\\common.py\u001b[0m in \u001b[0;36mget_handle\u001b[1;34m(path_or_buf, mode, encoding, compression, memory_map, is_text, errors, storage_options)\u001b[0m\n\u001b[0;32m    606\u001b[0m \u001b[1;33m\u001b[0m\u001b[0m\n\u001b[0;32m    607\u001b[0m     \u001b[1;31m# open URLs\u001b[0m\u001b[1;33m\u001b[0m\u001b[1;33m\u001b[0m\u001b[1;33m\u001b[0m\u001b[0m\n\u001b[1;32m--> 608\u001b[1;33m     ioargs = _get_filepath_or_buffer(\n\u001b[0m\u001b[0;32m    609\u001b[0m         \u001b[0mpath_or_buf\u001b[0m\u001b[1;33m,\u001b[0m\u001b[1;33m\u001b[0m\u001b[1;33m\u001b[0m\u001b[0m\n\u001b[0;32m    610\u001b[0m         \u001b[0mencoding\u001b[0m\u001b[1;33m=\u001b[0m\u001b[0mencoding\u001b[0m\u001b[1;33m,\u001b[0m\u001b[1;33m\u001b[0m\u001b[1;33m\u001b[0m\u001b[0m\n",
      "\u001b[1;32m~\\anaconda3\\envs\\specrom\\lib\\site-packages\\pandas\\io\\common.py\u001b[0m in \u001b[0;36m_get_filepath_or_buffer\u001b[1;34m(filepath_or_buffer, encoding, compression, mode, storage_options)\u001b[0m\n\u001b[0;32m    334\u001b[0m         \u001b[1;32mif\u001b[0m \u001b[0mfilepath_or_buffer\u001b[0m\u001b[1;33m.\u001b[0m\u001b[0mstartswith\u001b[0m\u001b[1;33m(\u001b[0m\u001b[1;34m\"s3n://\"\u001b[0m\u001b[1;33m)\u001b[0m\u001b[1;33m:\u001b[0m\u001b[1;33m\u001b[0m\u001b[1;33m\u001b[0m\u001b[0m\n\u001b[0;32m    335\u001b[0m             \u001b[0mfilepath_or_buffer\u001b[0m \u001b[1;33m=\u001b[0m \u001b[0mfilepath_or_buffer\u001b[0m\u001b[1;33m.\u001b[0m\u001b[0mreplace\u001b[0m\u001b[1;33m(\u001b[0m\u001b[1;34m\"s3n://\"\u001b[0m\u001b[1;33m,\u001b[0m \u001b[1;34m\"s3://\"\u001b[0m\u001b[1;33m)\u001b[0m\u001b[1;33m\u001b[0m\u001b[1;33m\u001b[0m\u001b[0m\n\u001b[1;32m--> 336\u001b[1;33m         \u001b[0mfsspec\u001b[0m \u001b[1;33m=\u001b[0m \u001b[0mimport_optional_dependency\u001b[0m\u001b[1;33m(\u001b[0m\u001b[1;34m\"fsspec\"\u001b[0m\u001b[1;33m)\u001b[0m\u001b[1;33m\u001b[0m\u001b[1;33m\u001b[0m\u001b[0m\n\u001b[0m\u001b[0;32m    337\u001b[0m \u001b[1;33m\u001b[0m\u001b[0m\n\u001b[0;32m    338\u001b[0m         \u001b[1;31m# If botocore is installed we fallback to reading with anon=True\u001b[0m\u001b[1;33m\u001b[0m\u001b[1;33m\u001b[0m\u001b[1;33m\u001b[0m\u001b[0m\n",
      "\u001b[1;32m~\\anaconda3\\envs\\specrom\\lib\\site-packages\\pandas\\compat\\_optional.py\u001b[0m in \u001b[0;36mimport_optional_dependency\u001b[1;34m(name, extra, errors, min_version)\u001b[0m\n\u001b[0;32m    116\u001b[0m     \u001b[1;32mexcept\u001b[0m \u001b[0mImportError\u001b[0m\u001b[1;33m:\u001b[0m\u001b[1;33m\u001b[0m\u001b[1;33m\u001b[0m\u001b[0m\n\u001b[0;32m    117\u001b[0m         \u001b[1;32mif\u001b[0m \u001b[0merrors\u001b[0m \u001b[1;33m==\u001b[0m \u001b[1;34m\"raise\"\u001b[0m\u001b[1;33m:\u001b[0m\u001b[1;33m\u001b[0m\u001b[1;33m\u001b[0m\u001b[0m\n\u001b[1;32m--> 118\u001b[1;33m             \u001b[1;32mraise\u001b[0m \u001b[0mImportError\u001b[0m\u001b[1;33m(\u001b[0m\u001b[0mmsg\u001b[0m\u001b[1;33m)\u001b[0m \u001b[1;32mfrom\u001b[0m \u001b[1;32mNone\u001b[0m\u001b[1;33m\u001b[0m\u001b[1;33m\u001b[0m\u001b[0m\n\u001b[0m\u001b[0;32m    119\u001b[0m         \u001b[1;32melse\u001b[0m\u001b[1;33m:\u001b[0m\u001b[1;33m\u001b[0m\u001b[1;33m\u001b[0m\u001b[0m\n\u001b[0;32m    120\u001b[0m             \u001b[1;32mreturn\u001b[0m \u001b[1;32mNone\u001b[0m\u001b[1;33m\u001b[0m\u001b[1;33m\u001b[0m\u001b[0m\n",
      "\u001b[1;31mImportError\u001b[0m: Missing optional dependency 'fsspec'.  Use pip or conda to install fsspec."
     ]
    }
   ],
   "source": [
    "muckrack.to_csv('C://Users//ACER//Downloads//Internships//Pressmatch//Data//muckrack_persons_fetchlist.csv')"
   ]
  }
 ],
 "metadata": {
  "kernelspec": {
   "display_name": "specrom",
   "language": "python",
   "name": "specrom"
  },
  "varInspector": {
   "cols": {
    "lenName": 16,
    "lenType": 16,
    "lenVar": 40
   },
   "kernels_config": {
    "python": {
     "delete_cmd_postfix": "",
     "delete_cmd_prefix": "del ",
     "library": "var_list.py",
     "varRefreshCmd": "print(var_dic_list())"
    },
    "r": {
     "delete_cmd_postfix": ") ",
     "delete_cmd_prefix": "rm(",
     "library": "var_list.r",
     "varRefreshCmd": "cat(var_dic_list()) "
    }
   },
   "types_to_exclude": [
    "module",
    "function",
    "builtin_function_or_method",
    "instance",
    "_Feature"
   ],
   "window_display": false
  }
 },
 "nbformat": 4,
 "nbformat_minor": 4
}
