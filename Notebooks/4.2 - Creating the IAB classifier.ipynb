{
 "cells": [
  {
   "cell_type": "markdown",
   "metadata": {},
   "source": [
    "### Load libraries and files"
   ]
  },
  {
   "cell_type": "code",
   "execution_count": 1,
   "metadata": {},
   "outputs": [],
   "source": [
    "import pickle\n",
    "import re\n",
    "import pandas as pd\n",
    "from nltk.stem.porter import PorterStemmer\n",
    "import nltk\n",
    "from nltk.corpus import stopwords\n",
    "import numpy as np\n",
    "from sklearn.model_selection import train_test_split\n",
    "from sklearn.feature_extraction.text import TfidfVectorizer\n",
    "from sklearn.preprocessing import MultiLabelBinarizer\n",
    "from sklearn.model_selection import GridSearchCV\n",
    "from sklearn.neighbors import KNeighborsClassifier\n",
    "from sklearn import metrics\n",
    "from sklearn.naive_bayes import MultinomialNB\n",
    "from sklearn.multiclass import OneVsRestClassifier\n",
    "from nltk.corpus import wordnet\n",
    "from nltk.corpus import stopwords\n",
    "from nltk.stem.wordnet import WordNetLemmatizer\n",
    "import string\n",
    "import re\n",
    "import ftfy\n",
    "import humanize\n",
    "import datetime\n",
    "import nltk\n",
    "from nltk.corpus import wordnet\n",
    "from nltk.corpus import stopwords\n",
    "from nltk.stem.wordnet import WordNetLemmatizer"
   ]
  },
  {
   "cell_type": "code",
   "execution_count": 2,
   "metadata": {},
   "outputs": [],
   "source": [
    "iab_text = pd.read_csv('../Data/IAB_text_v3.csv')"
   ]
  },
  {
   "cell_type": "code",
   "execution_count": 3,
   "metadata": {
    "scrolled": true
   },
   "outputs": [
    {
     "data": {
      "text/html": [
       "<div>\n",
       "<style scoped>\n",
       "    .dataframe tbody tr th:only-of-type {\n",
       "        vertical-align: middle;\n",
       "    }\n",
       "\n",
       "    .dataframe tbody tr th {\n",
       "        vertical-align: top;\n",
       "    }\n",
       "\n",
       "    .dataframe thead th {\n",
       "        text-align: right;\n",
       "    }\n",
       "</style>\n",
       "<table border=\"1\" class=\"dataframe\">\n",
       "  <thead>\n",
       "    <tr style=\"text-align: right;\">\n",
       "      <th></th>\n",
       "      <th>Unique ID</th>\n",
       "      <th>Parent</th>\n",
       "      <th>Name</th>\n",
       "      <th>Position</th>\n",
       "      <th>URL</th>\n",
       "      <th>Title</th>\n",
       "      <th>Snippet</th>\n",
       "      <th>Tier 1</th>\n",
       "      <th>Tier 2</th>\n",
       "      <th>Tier 3</th>\n",
       "      <th>Tier 4</th>\n",
       "      <th>with_bs4</th>\n",
       "      <th>with_justext</th>\n",
       "      <th>with_bs4_clean</th>\n",
       "      <th>with_justext_clean</th>\n",
       "    </tr>\n",
       "  </thead>\n",
       "  <tbody>\n",
       "    <tr>\n",
       "      <th>0</th>\n",
       "      <td>1</td>\n",
       "      <td>-</td>\n",
       "      <td>Automotive</td>\n",
       "      <td>1</td>\n",
       "      <td>https://www.merriam-webster.com/dictionary/aut...</td>\n",
       "      <td>Automotive | Definition of Automotive by …</td>\n",
       "      <td>Automotive definition is - self-propelled. How...</td>\n",
       "      <td>Automotive</td>\n",
       "      <td>-</td>\n",
       "      <td>-</td>\n",
       "      <td>-</td>\n",
       "      <td>Automotive | Defin...</td>\n",
       "      <td>These example sentences are selected automat...</td>\n",
       "      <td>automotive definition automotive merriamwebste...</td>\n",
       "      <td>example sentence select automatically various ...</td>\n",
       "    </tr>\n",
       "    <tr>\n",
       "      <th>1</th>\n",
       "      <td>1</td>\n",
       "      <td>-</td>\n",
       "      <td>Automotive</td>\n",
       "      <td>2</td>\n",
       "      <td>https://nl.wikipedia.org/wiki/Automotive</td>\n",
       "      <td>Automotive - Wikipedia</td>\n",
       "      <td>Dit is een doorverwijspagina, bedoeld om de ve...</td>\n",
       "      <td>Automotive</td>\n",
       "      <td>-</td>\n",
       "      <td>-</td>\n",
       "      <td>-</td>\n",
       "      <td>Automotive - Wikipedia                    ...</td>\n",
       "      <td>-</td>\n",
       "      <td>NaN</td>\n",
       "      <td>NaN</td>\n",
       "    </tr>\n",
       "    <tr>\n",
       "      <th>2</th>\n",
       "      <td>1</td>\n",
       "      <td>-</td>\n",
       "      <td>Automotive</td>\n",
       "      <td>3</td>\n",
       "      <td>https://www.dictionary.com/browse/automotive</td>\n",
       "      <td>Automotive | Definition of Automotive at …</td>\n",
       "      <td>Automotive definition, pertaining to the desig...</td>\n",
       "      <td>Automotive</td>\n",
       "      <td>-</td>\n",
       "      <td>-</td>\n",
       "      <td>-</td>\n",
       "      <td>Automotive | Definition of Automotive at ...</td>\n",
       "      <td>General Motors warned that a global semicond...</td>\n",
       "      <td>automotive definition automotive dictionarycom...</td>\n",
       "      <td>general motor warn global semiconductor shorta...</td>\n",
       "    </tr>\n",
       "    <tr>\n",
       "      <th>3</th>\n",
       "      <td>1</td>\n",
       "      <td>-</td>\n",
       "      <td>Automotive</td>\n",
       "      <td>4</td>\n",
       "      <td>https://en.wikipedia.org/wiki/Automotive_industry</td>\n",
       "      <td>Automotive industry - Wikipedia</td>\n",
       "      <td>The automotive industry comprises a wide range...</td>\n",
       "      <td>Automotive</td>\n",
       "      <td>-</td>\n",
       "      <td>-</td>\n",
       "      <td>-</td>\n",
       "      <td>Automotive industry - Wikipedia           ...</td>\n",
       "      <td>The automotive industry began in the 1860s w...</td>\n",
       "      <td>automotive industry wikipedia automotive indus...</td>\n",
       "      <td>automotive industry begin s hundred manufactur...</td>\n",
       "    </tr>\n",
       "    <tr>\n",
       "      <th>4</th>\n",
       "      <td>1</td>\n",
       "      <td>-</td>\n",
       "      <td>Automotive</td>\n",
       "      <td>5</td>\n",
       "      <td>https://automotive-online.nl/management/laatst...</td>\n",
       "      <td>Alle nieuwsrubrieken - Automotive Online</td>\n",
       "      <td>Het platform voor het midden en hoger manageme...</td>\n",
       "      <td>Automotive</td>\n",
       "      <td>-</td>\n",
       "      <td>-</td>\n",
       "      <td>-</td>\n",
       "      <td>Alle nieuwsrubrieken - Automotiv...</td>\n",
       "      <td>-</td>\n",
       "      <td>NaN</td>\n",
       "      <td>NaN</td>\n",
       "    </tr>\n",
       "  </tbody>\n",
       "</table>\n",
       "</div>"
      ],
      "text/plain": [
       "  Unique ID Parent        Name  Position  \\\n",
       "0         1      -  Automotive         1   \n",
       "1         1      -  Automotive         2   \n",
       "2         1      -  Automotive         3   \n",
       "3         1      -  Automotive         4   \n",
       "4         1      -  Automotive         5   \n",
       "\n",
       "                                                 URL  \\\n",
       "0  https://www.merriam-webster.com/dictionary/aut...   \n",
       "1           https://nl.wikipedia.org/wiki/Automotive   \n",
       "2       https://www.dictionary.com/browse/automotive   \n",
       "3  https://en.wikipedia.org/wiki/Automotive_industry   \n",
       "4  https://automotive-online.nl/management/laatst...   \n",
       "\n",
       "                                        Title  \\\n",
       "0  Automotive | Definition of Automotive by …   \n",
       "1                      Automotive - Wikipedia   \n",
       "2  Automotive | Definition of Automotive at …   \n",
       "3             Automotive industry - Wikipedia   \n",
       "4    Alle nieuwsrubrieken - Automotive Online   \n",
       "\n",
       "                                             Snippet      Tier 1 Tier 2  \\\n",
       "0  Automotive definition is - self-propelled. How...  Automotive      -   \n",
       "1  Dit is een doorverwijspagina, bedoeld om de ve...  Automotive      -   \n",
       "2  Automotive definition, pertaining to the desig...  Automotive      -   \n",
       "3  The automotive industry comprises a wide range...  Automotive      -   \n",
       "4  Het platform voor het midden en hoger manageme...  Automotive      -   \n",
       "\n",
       "  Tier 3 Tier 4                                           with_bs4  \\\n",
       "0      -      -                              Automotive | Defin...   \n",
       "1      -      -      Automotive - Wikipedia                    ...   \n",
       "2      -      -       Automotive | Definition of Automotive at ...   \n",
       "3      -      -      Automotive industry - Wikipedia           ...   \n",
       "4      -      -                Alle nieuwsrubrieken - Automotiv...   \n",
       "\n",
       "                                        with_justext  \\\n",
       "0    These example sentences are selected automat...   \n",
       "1                                                  -   \n",
       "2    General Motors warned that a global semicond...   \n",
       "3    The automotive industry began in the 1860s w...   \n",
       "4                                                  -   \n",
       "\n",
       "                                      with_bs4_clean  \\\n",
       "0  automotive definition automotive merriamwebste...   \n",
       "1                                                NaN   \n",
       "2  automotive definition automotive dictionarycom...   \n",
       "3  automotive industry wikipedia automotive indus...   \n",
       "4                                                NaN   \n",
       "\n",
       "                                  with_justext_clean  \n",
       "0  example sentence select automatically various ...  \n",
       "1                                                NaN  \n",
       "2  general motor warn global semiconductor shorta...  \n",
       "3  automotive industry begin s hundred manufactur...  \n",
       "4                                                NaN  "
      ]
     },
     "execution_count": 3,
     "metadata": {},
     "output_type": "execute_result"
    }
   ],
   "source": [
    "iab_text.head()"
   ]
  },
  {
   "cell_type": "code",
   "execution_count": 4,
   "metadata": {},
   "outputs": [],
   "source": [
    "stop = set(stopwords.words('english'))\n",
    "exclude = set(string.punctuation)\n",
    "lemma = WordNetLemmatizer()\n",
    "tag_dict = {\"J\": wordnet.ADJ, \"N\": wordnet.NOUN, \"V\": wordnet.VERB, \"R\": wordnet.ADV}"
   ]
  },
  {
   "cell_type": "code",
   "execution_count": 5,
   "metadata": {},
   "outputs": [],
   "source": [
    "# Cleaning the text sentences so that punctuation marks, stop words &amp; digits are removed\n",
    "# Words are lemmatized according to their POS tags\n",
    "def clean(doc):\n",
    "    doc = ftfy.fix_text(doc)\n",
    "    stop_free = \" \".join([i for i in doc.lower().split() if i not in stop])\n",
    "    punc_free = ''.join(ch for ch in stop_free if ch not in exclude)\n",
    "    normalized = \"\"\n",
    "    for word in punc_free.split():\n",
    "        tag = nltk.pos_tag([word])[0][1][0].upper()\n",
    "        normalized = normalized + \" \" + str(lemma.lemmatize(word, tag_dict.get(tag, wordnet.NOUN)))\n",
    "    processed = re.sub(r\"\\d+\",\"\", normalized)\n",
    "    y = processed.split()\n",
    "    return ' '.join(y)"
   ]
  },
  {
   "cell_type": "markdown",
   "metadata": {},
   "source": [
    "### With NB"
   ]
  },
  {
   "cell_type": "markdown",
   "metadata": {},
   "source": [
    "#### On with_bs4 column"
   ]
  },
  {
   "cell_type": "code",
   "execution_count": 6,
   "metadata": {
    "scrolled": true
   },
   "outputs": [
    {
     "data": {
      "text/plain": [
       "[Index(['Tier 1', 'Tier 2', 'Tier 3', 'Tier 4'], dtype='object')]"
      ]
     },
     "execution_count": 6,
     "metadata": {},
     "output_type": "execute_result"
    }
   ],
   "source": [
    "df = iab_text.dropna(subset = ['with_bs4_clean'])\n",
    "df = df[df.with_bs4_clean != 'exceed'].reset_index(drop = True)\n",
    "\n",
    "tfidf = TfidfVectorizer(max_df = 0.9, min_df = 5)\n",
    "text_count = tfidf.fit_transform(df['with_bs4_clean'])\n",
    "y = np.asarray(df[df.columns[7:11]])\n",
    "\n",
    "[df.columns[7:11]]"
   ]
  },
  {
   "cell_type": "code",
   "execution_count": 7,
   "metadata": {},
   "outputs": [
    {
     "data": {
      "text/plain": [
       "array(['-', '3-D Graphics', 'Abkhaz', ..., 'Zulu', 'eSports',\n",
       "       'the Democratic Republic of the Congo'], dtype=object)"
      ]
     },
     "execution_count": 7,
     "metadata": {},
     "output_type": "execute_result"
    }
   ],
   "source": [
    "mlb = MultiLabelBinarizer()\n",
    "y = mlb.fit_transform(y)\n",
    "x_train, x_test, y_train, y_test = train_test_split(text_count, y, test_size = 0.25, random_state = 5)\n",
    "\n",
    "mlb.classes_"
   ]
  },
  {
   "cell_type": "code",
   "execution_count": 8,
   "metadata": {},
   "outputs": [
    {
     "name": "stdout",
     "output_type": "stream",
     "text": [
      "accuracy_score 0.007029876977152899\n",
      "recall_macro_score 0.015688287454711007\n",
      "recall_micro_score 0.4410202920538593\n",
      "recall_weighted_score 0.4410202920538593\n",
      "f1_macro_score 0.013607226524966775\n",
      "f1_micro_score 0.4568986688933641\n",
      "f1_weighted_score 0.4331570796908794\n",
      "precision_macro_score 0.06525714954795744\n",
      "precision_micro_score 0.4739631101599919\n",
      "precision_weighted_score 0.45467724039457175\n"
     ]
    }
   ],
   "source": [
    "model = MultinomialNB(alpha = 0.1)\n",
    "model = OneVsRestClassifier(model)\n",
    "model.fit(x_train, y_train)\n",
    "y_pred = model.predict(x_test)\n",
    "\n",
    "print('accuracy_score', metrics.accuracy_score(y_pred, y_test))\n",
    "print('recall_macro_score', metrics.recall_score(y_pred, y_test, average = 'macro', zero_division = 1))\n",
    "print('recall_micro_score', metrics.recall_score(y_pred, y_test, average = 'micro', zero_division = 1))\n",
    "print('recall_weighted_score', metrics.recall_score(y_pred, y_test, average = 'weighted', zero_division = 1))\n",
    "print('f1_macro_score', metrics.f1_score(y_pred, y_test,average = 'macro', zero_division = 1))\n",
    "print('f1_micro_score', metrics.f1_score(y_pred, y_test,average = 'micro', zero_division = 1))\n",
    "print('f1_weighted_score', metrics.f1_score(y_pred, y_test,average = 'weighted', zero_division = 1))\n",
    "print('precision_macro_score', metrics.precision_score(y_pred, y_test,average = 'macro', zero_division = 1))\n",
    "print('precision_micro_score', metrics.precision_score(y_pred, y_test,average = 'micro', zero_division = 1))\n",
    "print('precision_weighted_score', metrics.precision_score(y_pred, y_test,average = 'weighted', zero_division = 1))"
   ]
  },
  {
   "cell_type": "markdown",
   "metadata": {},
   "source": [
    "#### On with_justext column"
   ]
  },
  {
   "cell_type": "code",
   "execution_count": 9,
   "metadata": {},
   "outputs": [
    {
     "data": {
      "text/plain": [
       "[Index(['Tier 1', 'Tier 2', 'Tier 3', 'Tier 4'], dtype='object')]"
      ]
     },
     "execution_count": 9,
     "metadata": {},
     "output_type": "execute_result"
    }
   ],
   "source": [
    "df = iab_text.dropna(subset = ['with_justext_clean'])\n",
    "df = df[df.with_justext_clean != 'exceed'].reset_index(drop = True)\n",
    "\n",
    "tfidf = TfidfVectorizer(max_df = 0.9, min_df = 5)\n",
    "text_count = tfidf.fit_transform(df['with_justext_clean'])\n",
    "y = np.asarray(df[df.columns[7:11]])\n",
    "\n",
    "[df.columns[7:11]]"
   ]
  },
  {
   "cell_type": "code",
   "execution_count": 10,
   "metadata": {},
   "outputs": [
    {
     "data": {
      "text/plain": [
       "array(['-', '3-D Graphics', 'Abkhaz', ..., 'Zulu', 'eSports',\n",
       "       'the Democratic Republic of the Congo'], dtype=object)"
      ]
     },
     "execution_count": 10,
     "metadata": {},
     "output_type": "execute_result"
    }
   ],
   "source": [
    "mlb = MultiLabelBinarizer()\n",
    "y = mlb.fit_transform(y)\n",
    "x_train, x_test, y_train, y_test = train_test_split(text_count, y, test_size = 0.25, random_state = 5)\n",
    "\n",
    "mlb.classes_"
   ]
  },
  {
   "cell_type": "code",
   "execution_count": 11,
   "metadata": {},
   "outputs": [
    {
     "name": "stderr",
     "output_type": "stream",
     "text": [
      "C:\\Users\\ACER\\anaconda3\\lib\\site-packages\\sklearn\\multiclass.py:76: UserWarning: Label not 5 is present in all training examples.\n",
      "  warnings.warn(\"Label %s is present in all training examples.\" %\n",
      "C:\\Users\\ACER\\anaconda3\\lib\\site-packages\\sklearn\\multiclass.py:76: UserWarning: Label not 718 is present in all training examples.\n",
      "  warnings.warn(\"Label %s is present in all training examples.\" %\n"
     ]
    },
    {
     "name": "stdout",
     "output_type": "stream",
     "text": [
      "accuracy_score 0.006261180679785331\n",
      "recall_macro_score 0.9917894900377412\n",
      "recall_micro_score 0.8737373737373737\n",
      "recall_weighted_score 0.8737373737373737\n",
      "f1_macro_score 0.13705438784219015\n",
      "f1_micro_score 0.62877911779283\n",
      "f1_weighted_score 0.8509997694854201\n",
      "precision_macro_score 0.13424723777543912\n",
      "precision_micro_score 0.4910967741935484\n",
      "precision_weighted_score 0.8455128842983122\n"
     ]
    }
   ],
   "source": [
    "model = MultinomialNB(alpha = 0.1)\n",
    "model = OneVsRestClassifier(model)\n",
    "model.fit(x_train, y_train)\n",
    "y_pred = model.predict(x_test)\n",
    "\n",
    "print('accuracy_score', metrics.accuracy_score(y_pred, y_test))\n",
    "print('recall_macro_score', metrics.recall_score(y_pred, y_test, average = 'macro', zero_division = 1))\n",
    "print('recall_micro_score', metrics.recall_score(y_pred, y_test, average = 'micro', zero_division = 1))\n",
    "print('recall_weighted_score', metrics.recall_score(y_pred, y_test, average = 'weighted', zero_division = 1))\n",
    "print('f1_macro_score', metrics.f1_score(y_pred, y_test,average = 'macro', zero_division = 1))\n",
    "print('f1_micro_score', metrics.f1_score(y_pred, y_test,average = 'micro', zero_division = 1))\n",
    "print('f1_weighted_score', metrics.f1_score(y_pred, y_test,average = 'weighted', zero_division = 1))\n",
    "print('precision_macro_score', metrics.precision_score(y_pred, y_test,average = 'macro', zero_division = 1))\n",
    "print('precision_micro_score', metrics.precision_score(y_pred, y_test,average = 'micro', zero_division = 1))\n",
    "print('precision_weighted_score', metrics.precision_score(y_pred, y_test,average = 'weighted', zero_division = 1))"
   ]
  },
  {
   "cell_type": "markdown",
   "metadata": {},
   "source": [
    "### Without NB"
   ]
  },
  {
   "cell_type": "markdown",
   "metadata": {},
   "source": [
    "#### On with_bs4 column"
   ]
  },
  {
   "cell_type": "code",
   "execution_count": 12,
   "metadata": {},
   "outputs": [],
   "source": [
    "df = iab_text.dropna(subset = ['with_bs4_clean'])\n",
    "df = df[df.with_bs4_clean != 'exceed'].reset_index(drop = True)\n",
    "\n",
    "tfidf = TfidfVectorizer()\n",
    "text_count = tfidf.fit_transform(df['with_bs4_clean'])\n",
    "y = np.asarray(df[df.columns[7:11]])"
   ]
  },
  {
   "cell_type": "code",
   "execution_count": 13,
   "metadata": {},
   "outputs": [
    {
     "data": {
      "text/plain": [
       "1178"
      ]
     },
     "execution_count": 13,
     "metadata": {},
     "output_type": "execute_result"
    }
   ],
   "source": [
    "mlb = MultiLabelBinarizer()\n",
    "y = mlb.fit_transform(y)\n",
    "x_train, x_test, y_train, y_test = train_test_split(text_count, y, test_size = 0.25, random_state = 5)\n",
    "\n",
    "len(mlb.classes_)"
   ]
  },
  {
   "cell_type": "code",
   "execution_count": 14,
   "metadata": {},
   "outputs": [
    {
     "name": "stdout",
     "output_type": "stream",
     "text": [
      "accuracy_score_KNN 0.4344463971880492\n",
      "recall_macro_score 0.8761127178650618\n",
      "recall_micro_score 0.862882096069869\n",
      "recall_weighted_score 0.862882096069869\n",
      "f1_macro_score 0.5070980486309101\n",
      "f1_micro_score 0.775858200583352\n",
      "f1_weighted_score 0.8229451268248577\n",
      "precision_macro_score 0.48761784522132395\n",
      "precision_micro_score 0.7047793742993987\n",
      "precision_weighted_score 0.8069763846158395\n"
     ]
    }
   ],
   "source": [
    "knnClf = KNeighborsClassifier(n_neighbors = 3)\n",
    "knnClf.fit(x_train, y_train)\n",
    "knnpred = knnClf.predict(x_test)\n",
    "\n",
    "print('accuracy_score_KNN', metrics.accuracy_score(knnpred, y_test))\n",
    "print('recall_macro_score', metrics.recall_score(knnpred, y_test,average = 'macro', zero_division = 1))\n",
    "print('recall_micro_score', metrics.recall_score(knnpred, y_test,average = 'micro', zero_division = 1))\n",
    "print('recall_weighted_score', metrics.recall_score(knnpred, y_test,average = 'weighted', zero_division = 1))\n",
    "print('f1_macro_score', metrics.f1_score(knnpred, y_test,average = 'macro', zero_division = 1))\n",
    "print('f1_micro_score', metrics.f1_score(knnpred, y_test,average = 'micro', zero_division = 1))\n",
    "print('f1_weighted_score', metrics.f1_score(knnpred, y_test,average = 'weighted', zero_division = 1))\n",
    "print('precision_macro_score', metrics.precision_score(knnpred, y_test,average = 'macro', zero_division = 1))\n",
    "print('precision_micro_score', metrics.precision_score(knnpred, y_test,average = 'micro', zero_division = 1))\n",
    "print('precision_weighted_score', metrics.precision_score(knnpred, y_test,average = 'weighted', zero_division = 1))"
   ]
  },
  {
   "cell_type": "markdown",
   "metadata": {},
   "source": [
    "#### On with_justext column"
   ]
  },
  {
   "cell_type": "code",
   "execution_count": 15,
   "metadata": {},
   "outputs": [],
   "source": [
    "df = iab_text.dropna(subset = ['with_justext_clean'])\n",
    "df = df[df.with_justext_clean != 'exceed'].reset_index(drop = True)\n",
    "\n",
    "tfidf = TfidfVectorizer()\n",
    "text_count = tfidf.fit_transform(df['with_justext_clean'])\n",
    "y = np.asarray(df[df.columns[7:11]])"
   ]
  },
  {
   "cell_type": "code",
   "execution_count": 16,
   "metadata": {},
   "outputs": [
    {
     "data": {
      "text/plain": [
       "1177"
      ]
     },
     "execution_count": 16,
     "metadata": {},
     "output_type": "execute_result"
    }
   ],
   "source": [
    "mlb = MultiLabelBinarizer()\n",
    "y = mlb.fit_transform(y)\n",
    "x_train, x_test, y_train, y_test = train_test_split(text_count, y, test_size = 0.25, random_state = 5)\n",
    "\n",
    "len(mlb.classes_)"
   ]
  },
  {
   "cell_type": "code",
   "execution_count": 17,
   "metadata": {},
   "outputs": [
    {
     "name": "stdout",
     "output_type": "stream",
     "text": [
      "accuracy_score_KNN 0.5165474060822898\n",
      "recall_macro_score 0.8664021912628157\n",
      "recall_micro_score 0.8561320754716981\n",
      "recall_weighted_score 0.8561320754716981\n",
      "f1_macro_score 0.5771287841983385\n",
      "f1_micro_score 0.7992293931471033\n",
      "f1_weighted_score 0.8332117125901238\n",
      "precision_macro_score 0.5947477233491222\n",
      "precision_micro_score 0.7494193548387097\n",
      "precision_weighted_score 0.8386795481373311\n"
     ]
    }
   ],
   "source": [
    "knnClf = KNeighborsClassifier(n_neighbors = 3)\n",
    "knnClf.fit(x_train, y_train)\n",
    "knnpred = knnClf.predict(x_test)\n",
    "\n",
    "print('accuracy_score_KNN', metrics.accuracy_score(knnpred, y_test))\n",
    "print('recall_macro_score', metrics.recall_score(knnpred, y_test,average = 'macro', zero_division = 1))\n",
    "print('recall_micro_score', metrics.recall_score(knnpred, y_test,average = 'micro', zero_division = 1))\n",
    "print('recall_weighted_score', metrics.recall_score(knnpred, y_test,average = 'weighted', zero_division = 1))\n",
    "print('f1_macro_score', metrics.f1_score(knnpred, y_test,average = 'macro', zero_division = 1))\n",
    "print('f1_micro_score', metrics.f1_score(knnpred, y_test,average = 'micro', zero_division = 1))\n",
    "print('f1_weighted_score', metrics.f1_score(knnpred, y_test,average = 'weighted', zero_division = 1))\n",
    "print('precision_macro_score', metrics.precision_score(knnpred, y_test,average = 'macro', zero_division = 1))\n",
    "print('precision_micro_score', metrics.precision_score(knnpred, y_test,average = 'micro', zero_division = 1))\n",
    "print('precision_weighted_score', metrics.precision_score(knnpred, y_test,average = 'weighted', zero_division = 1))"
   ]
  },
  {
   "cell_type": "code",
   "execution_count": 18,
   "metadata": {},
   "outputs": [
    {
     "data": {
      "text/plain": [
       "[('-',\n",
       "  'Diseases and Conditions',\n",
       "  'Heart and Cardiovascular Diseases',\n",
       "  'Medical Health')]"
      ]
     },
     "execution_count": 18,
     "metadata": {},
     "output_type": "execute_result"
    }
   ],
   "source": [
    "s = \"Jump to navigation NEWSLIVE TV Home APPMAGAZINE HOMEMY FEEDVIDEOSMALAYALAMINDIAGAMINGFACT CHECKQUIZMOVIESHEALTHTECHSPORTSDIU NewsLifestyleYoga can help you keep heart diseases at bay Yoga can help you keep heart diseases at bay Yoga can become a way of life to help you deal with heart diseases. Priyanka Sharma New Delhi June 21, 2018UPDATED: June 21, 2018 18:59 IST Chair posture is proving beneficial for patients who can’t sit on the floor or have disabilities Chair posture is proving beneficial for patients who can’t sit on the floor or have disabilities Even in matters of the heart, literally speaking, yoga has an impact. A study by the All India Institute of Medical Sciences (AIIMS) has established that a person can regulate her/his heartbeats through yoga. AIIMS, in what it claimed to be the first study of its kind to have scientifically established the benefits of yoga, revealed that breathing in a particular rhythm has many positive effects on cardiovascular health. It also helps in overcoming anger, fear, stress and hypertension. Dr KK Deepak, author of the study and head of the Department of Physiology at AIIMS, told Mail Today: A slow yogic breathing can curtail the feeling of stress, fear, anger, tension and also regulate diabetes. The study has found that there is a correlation between heartbeat and blood pressure. Yogic breathing can synchronise the two which is a big deal.  The results of the study, funded by Indian Council for Medical Research (ICMR) and the Ministry of AYUSH, have been published in the latest issue of Indian Journal of Medical Research. When we do deep-breathing, blood pressure comes into the normal range. This indicates that there is a strong relationship between heart rate and blood pressure. If a persons heart rate falls, suddenly the BP will go up and if the BP comes down, the heart rate shoots up. Thus, creating a balance between the two is very important - which can be done by yogic breathing,  Dr Deepak said. In another study conducted by RML Hospital, doctors have found that practising asanas led to significant improvement in patients suffering from mental health illnesses, as compared with those who did other forms of exercise. We made two groups of patients yoga and non-yoga. The yoga group patients cognitive behaviour improved tremendously as compared to the patients doing other exercises, said (Prof) Smita N. Deshpande, Head the Department of Psychiatry & De-Addiction at RML Hospital. Chair Yoga for health Offering relief to patients who cannot sit on floor, Delhi's Sir Ganga Ram Hospital has introduced a new yoga initiative called 'chair yoga' in which the patients can remain seated on a chair and perform health postures. Dr Soina Rawat, director at the department of executive health check up at the hospital, said,A large number of patients were facing problems in doing yoga because of various disabilities. They wanted to practice yoga but couldnt sit on the floor. So we started the concept of chair yoga at our hospital. It is really helpful and their health status has improved. Binda Shukla, 50, is one patient who has been practicing chair yoga for several months. She suffers from upper body stiffness, and has cervical and cholesterol problems. There is definitely relief ever since I started doing meditation and yoga. I feel fresh when I perform deep breathing asanas and am taking less medication now. Even those who have knee joint related complications are comfortable with chair yoga, says Dr Shukla To see whether yoga can improve cognitive functions of patients with severe mental disorder as compared to cardiac controls and to compare improvements in patients with schizophrenia. Time period: Samples of last two years in the study included patients with depression, bipolar disorder, schizophrenia and cardiac controls. Patients were aged between 18-60. Another study was conducted to ascertain randomised control trail on schizophrenia on yoga and non-yoga groups. Exercises: Yoga training included chanting of Om, warm up exercises, breathing (pranayama), various yogic asanas Results: There was an improvement in the speed parameters of most of the cognitive domains among patients with schizophrenia after yoga, compared with the schizophrenia non-yoga group patients. The healthy parameters sustained for six months at least. Tags :Follow YogaFollow International Yoga Day POST A COMMENT READ THIS BJP chief JP Nadda Top BJP leaders take to social media to condemn tweets on farmers' stir by Rihanna, Greta The efficacy of double masking: What health experts have to say Silenced Minority? Airtel, Jio, Vi best prepaid plans with streaming and data benefits under Rs 500 RECOMMENDED WATCH RIGHT NOW 01:00 Watch: Arvind Kejriwal takes first dose of Covid vaccine 02:27 Bengal assembly polls: Mamata Banerjee to file nomination from Nandigram on March 11 00:49 Bengali singer Aditi Munshi joins Trinamool Congress 02:57 Karnataka minister Ramesh Jarkiholi resigns after sex CD scandal 02:01 Good news: Prisoners beautify jail compound in UP's Maharajganj TOP TAKES EC directs petrol pumps to remove hoardings showing PM Modi's photos01:10 EC directs petrol pumps to remove hoardings showing PM Modi's photos BJP calls Rahul Gandhi's push-up challenge violation of code of conduct, writes to EC00:46 BJP calls Rahul Gandhi's push-up challenge violation of code of conduct, writes to EC Delhi Police foils plan to kill 2 Delhi riots accused in Tihar Jail02:30 Delhi Police foils plan to kill 2 Delhi riots accused in Tihar Jail INDIATODAY.IN Download App Andriod AppIOS AppSmartTv App Copyright © 2021 Living Media India Limited. For reprint rights: Syndications Today Covid-19 pandemic: 5 things one should know about heart failure Covid-19 pandemic: 5 things one should know about heart failure KCR's Backward Classes Challenge KCR's Backward Classes Challenge What genes tell us about the risk of developing cancer What genes tell us about the risk of developing cancer Redefining heart health with cutting edge technologies Redefining heart health with cutting edge technologies How yoga can help you to get rid of stress headache How yoga can help you to get rid of stress headache Designer sarees to mark your distinctive impression Designer sarees to mark your distinctive impression Designer sarees to mark your distinctive impression Designer sarees to mark your distinctive impression Do's and dont's to keep in mind while opting for IVF treatment: Here's all you need to know Do's and dont's to keep in mind while opting for IVF treatment: Here's all you need to know Be a style icon with these groovy women handbags Be a style icon with these groovy women handbags India's Avant-Garde India's Avant-Garde\"\n",
    "s = clean(s)\n",
    "s = tfidf.transform([s])\n",
    "mlb.inverse_transform(knnClf.predict(s))"
   ]
  },
  {
   "cell_type": "code",
   "execution_count": 19,
   "metadata": {},
   "outputs": [
    {
     "data": {
      "text/plain": [
       "'0.23.2'"
      ]
     },
     "execution_count": 19,
     "metadata": {},
     "output_type": "execute_result"
    }
   ],
   "source": [
    "f = open('../Models/IAB_binarizer.p', 'wb')\n",
    "pickle.dump(mlb, f)\n",
    "f.close()\n",
    "\n",
    "f = open('../Models/IAB_vectorizer.p', 'wb')\n",
    "pickle.dump(tfidf, f)\n",
    "f.close()\n",
    "\n",
    "f = open('../Models/IAB_classifier.p', 'wb')\n",
    "pickle.dump(knnClf, f)\n",
    "f.close()\n",
    "\n",
    "import sklearn\n",
    "sklearn.__version__"
   ]
  }
 ],
 "metadata": {
  "kernelspec": {
   "display_name": "Python 3",
   "language": "python",
   "name": "python3"
  },
  "language_info": {
   "codemirror_mode": {
    "name": "ipython",
    "version": 3
   },
   "file_extension": ".py",
   "mimetype": "text/x-python",
   "name": "python",
   "nbconvert_exporter": "python",
   "pygments_lexer": "ipython3",
   "version": "3.8.5"
  },
  "varInspector": {
   "cols": {
    "lenName": 16,
    "lenType": 16,
    "lenVar": 40
   },
   "kernels_config": {
    "python": {
     "delete_cmd_postfix": "",
     "delete_cmd_prefix": "del ",
     "library": "var_list.py",
     "varRefreshCmd": "print(var_dic_list())"
    },
    "r": {
     "delete_cmd_postfix": ") ",
     "delete_cmd_prefix": "rm(",
     "library": "var_list.r",
     "varRefreshCmd": "cat(var_dic_list()) "
    }
   },
   "types_to_exclude": [
    "module",
    "function",
    "builtin_function_or_method",
    "instance",
    "_Feature"
   ],
   "window_display": false
  }
 },
 "nbformat": 4,
 "nbformat_minor": 4
}
