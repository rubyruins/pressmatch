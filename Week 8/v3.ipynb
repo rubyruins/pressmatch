{
 "cells": [
  {
   "cell_type": "code",
   "execution_count": 1,
   "metadata": {},
   "outputs": [],
   "source": [
    "import pandas as pd\n",
    "import re\n",
    "import pickle\n",
    "from urllib.request import Request, urlopen\n",
    "import bs4 as bs\n",
    "import lxml\n",
    "import json\n",
    "import random\n",
    "import pickle\n",
    "import random\n",
    "import sklearn\n",
    "from sklearn.feature_extraction.text import TfidfVectorizer\n",
    "import nltk\n",
    "from nltk.corpus import stopwords\n",
    "from nltk.stem.wordnet import WordNetLemmatizer\n",
    "import string\n",
    "import re\n",
    "import ftfy\n",
    "import langdetect"
   ]
  },
  {
   "cell_type": "markdown",
   "metadata": {
    "heading_collapsed": true
   },
   "source": [
    "#### Filter csv"
   ]
  },
  {
   "cell_type": "code",
   "execution_count": 2,
   "metadata": {
    "hidden": true
   },
   "outputs": [],
   "source": [
    "df = pd.read_csv(\"../Data/filtered_df_muckrack_with_twitter8april2021.csv\")"
   ]
  },
  {
   "cell_type": "code",
   "execution_count": 3,
   "metadata": {
    "hidden": true,
    "scrolled": true
   },
   "outputs": [],
   "source": [
    "for i in range(len(df)):\n",
    "    journos = json.loads(df.iloc[i].journalist)\n",
    "    if len(journos) < 3:\n",
    "        df.loc[i, \"journalist\"] = 'delete'"
   ]
  },
  {
   "cell_type": "code",
   "execution_count": 4,
   "metadata": {
    "hidden": true,
    "scrolled": true
   },
   "outputs": [],
   "source": [
    "df = df[df.journalist != 'delete'].reset_index()"
   ]
  },
  {
   "cell_type": "markdown",
   "metadata": {},
   "source": [
    "#### Get Alexa ranking"
   ]
  },
  {
   "cell_type": "code",
   "execution_count": 5,
   "metadata": {},
   "outputs": [
    {
     "data": {
      "text/plain": [
       "0                  cbc.ca\n",
       "1                  cbc.ca\n",
       "2                  cbc.ca\n",
       "3                  cbc.ca\n",
       "4                  cbc.ca\n",
       "              ...        \n",
       "1100    opendemocracy.net\n",
       "1101       nbcbayarea.com\n",
       "1102      foxbusiness.com\n",
       "1103              upi.com\n",
       "1104         collider.com\n",
       "Name: cleaned_outlet_url, Length: 1105, dtype: object"
      ]
     },
     "execution_count": 5,
     "metadata": {},
     "output_type": "execute_result"
    }
   ],
   "source": [
    "df.cleaned_outlet_url"
   ]
  },
  {
   "cell_type": "code",
   "execution_count": 6,
   "metadata": {},
   "outputs": [],
   "source": [
    "def get_alexa_ranking(url):\n",
    "    try:\n",
    "        xml = urlopen('http://data.alexa.com/data?cli=10&dat=s&url={}'.format(url)).read() \n",
    "        text = int(re.search(r'<POPULARITY[^>]*TEXT=\"(\\d+)\"', str(xml)).groups()[0])\n",
    "    except:\n",
    "        text = \"Cannot find\"\n",
    "    return text"
   ]
  },
  {
   "cell_type": "code",
   "execution_count": 7,
   "metadata": {},
   "outputs": [],
   "source": [
    "df['alexa_ranking'] = df.apply(lambda x: get_alexa_ranking(x['cleaned_outlet_url']), axis=1)"
   ]
  },
  {
   "cell_type": "code",
   "execution_count": 8,
   "metadata": {},
   "outputs": [],
   "source": [
    "df = df[df.alexa_ranking != \"Cannot find\"].reset_index()"
   ]
  },
  {
   "cell_type": "markdown",
   "metadata": {
    "heading_collapsed": true
   },
   "source": [
    "#### Get mean and median values"
   ]
  },
  {
   "cell_type": "code",
   "execution_count": 9,
   "metadata": {
    "hidden": true
   },
   "outputs": [],
   "source": [
    "df = df[df.t_followers.notnull()]"
   ]
  },
  {
   "cell_type": "code",
   "execution_count": 10,
   "metadata": {
    "hidden": true
   },
   "outputs": [],
   "source": [
    "def clean_followers(num):\n",
    "    return int(num.replace(',', ''))"
   ]
  },
  {
   "cell_type": "code",
   "execution_count": 11,
   "metadata": {
    "hidden": true,
    "scrolled": true
   },
   "outputs": [],
   "source": [
    "df['clean_t_followers'] = df.apply(lambda x: clean_followers(x['t_followers']), axis=1)"
   ]
  },
  {
   "cell_type": "code",
   "execution_count": 12,
   "metadata": {
    "hidden": true
   },
   "outputs": [
    {
     "name": "stdout",
     "output_type": "stream",
     "text": [
      "<class 'pandas.core.frame.DataFrame'>\n",
      "Int64Index: 1023 entries, 0 to 1102\n",
      "Data columns (total 45 columns):\n",
      " #   Column                       Non-Null Count  Dtype \n",
      "---  ------                       --------------  ----- \n",
      " 0   level_0                      1023 non-null   int64 \n",
      " 1   index                        1023 non-null   int64 \n",
      " 2   Accepts contributed content  53 non-null     object\n",
      " 3   Broadcast Affiliation        64 non-null     object\n",
      " 4   Country                      1019 non-null   object\n",
      " 5   Days Published               290 non-null    object\n",
      " 6   Frequency                    481 non-null    object\n",
      " 7   Instagram                    713 non-null    object\n",
      " 8   Language                     1022 non-null   object\n",
      " 9   Media Market                 220 non-null    object\n",
      " 10  Pinterest                    329 non-null    object\n",
      " 11  Radio Format                 90 non-null     object\n",
      " 12  Radio Media Market           9 non-null      object\n",
      " 13  Scope                        1023 non-null   object\n",
      " 14  UVM\r",
      "\r\n",
      "Insights by            1023 non-null   object\n",
      " 15  Unnamed: 0                   1023 non-null   int64 \n",
      " 16  cleaned_outlet_url           1023 non-null   object\n",
      " 17  description                  992 non-null    object\n",
      " 18  domain_counts                1023 non-null   int64 \n",
      " 19  facebook                     1001 non-null   object\n",
      " 20  jf_page_exists               1023 non-null   object\n",
      " 21  journalist                   1023 non-null   object\n",
      " 22  linkedin                     729 non-null    object\n",
      " 23  media_type                   1023 non-null   object\n",
      " 24  muckrack_profile_url         1023 non-null   object\n",
      " 25  source_name                  1023 non-null   object\n",
      " 26  t_author_name                1023 non-null   object\n",
      " 27  t_bio                        1007 non-null   object\n",
      " 28  t_followers                  1023 non-null   object\n",
      " 29  t_following                  1023 non-null   object\n",
      " 30  t_likes                      1023 non-null   object\n",
      " 31  t_no_of_posts                1023 non-null   object\n",
      " 32  t_profile_join_date          1023 non-null   object\n",
      " 33  t_profile_location           879 non-null    object\n",
      " 34  t_profile_picture            1023 non-null   object\n",
      " 35  t_profile_website            980 non-null    object\n",
      " 36  t_tweet                      1023 non-null   object\n",
      " 37  t_twitter_username           1023 non-null   object\n",
      " 38  t_verified                   1023 non-null   object\n",
      " 39  twitter                      1023 non-null   object\n",
      " 40  url                          1023 non-null   object\n",
      " 41  youtube                      646 non-null    object\n",
      " 42  multiple_url                 1023 non-null   object\n",
      " 43  alexa_ranking                1023 non-null   object\n",
      " 44  clean_t_followers            1023 non-null   int64 \n",
      "dtypes: int64(5), object(40)\n",
      "memory usage: 367.6+ KB\n"
     ]
    }
   ],
   "source": [
    "df.info()"
   ]
  },
  {
   "cell_type": "code",
   "execution_count": 13,
   "metadata": {
    "hidden": true
   },
   "outputs": [
    {
     "data": {
      "text/plain": [
       "1320631.211143695"
      ]
     },
     "execution_count": 13,
     "metadata": {},
     "output_type": "execute_result"
    }
   ],
   "source": [
    "df.clean_t_followers.mean()"
   ]
  },
  {
   "cell_type": "code",
   "execution_count": 14,
   "metadata": {
    "hidden": true
   },
   "outputs": [
    {
     "data": {
      "text/plain": [
       "197612.0"
      ]
     },
     "execution_count": 14,
     "metadata": {},
     "output_type": "execute_result"
    }
   ],
   "source": [
    "df.clean_t_followers.median()"
   ]
  },
  {
   "cell_type": "code",
   "execution_count": 15,
   "metadata": {
    "hidden": true
   },
   "outputs": [
    {
     "data": {
      "text/plain": [
       "4274.0"
      ]
     },
     "execution_count": 15,
     "metadata": {},
     "output_type": "execute_result"
    }
   ],
   "source": [
    "df.alexa_ranking.median()"
   ]
  },
  {
   "cell_type": "code",
   "execution_count": 16,
   "metadata": {
    "hidden": true
   },
   "outputs": [
    {
     "data": {
      "text/plain": [
       "14553.900293255132"
      ]
     },
     "execution_count": 16,
     "metadata": {},
     "output_type": "execute_result"
    }
   ],
   "source": [
    "df.alexa_ranking.mean()"
   ]
  },
  {
   "cell_type": "markdown",
   "metadata": {
    "heading_collapsed": true
   },
   "source": [
    "#### Cutoff by median"
   ]
  },
  {
   "cell_type": "code",
   "execution_count": 17,
   "metadata": {
    "hidden": true
   },
   "outputs": [],
   "source": [
    "select_df = df[df.clean_t_followers >= df.clean_t_followers.median()]\n",
    "select_df = select_df[select_df.alexa_ranking <= df.alexa_ranking.median()]"
   ]
  },
  {
   "cell_type": "code",
   "execution_count": 18,
   "metadata": {
    "hidden": true
   },
   "outputs": [],
   "source": [
    "select_df = select_df.drop(columns=['level_0', 'index'])"
   ]
  },
  {
   "cell_type": "code",
   "execution_count": 19,
   "metadata": {
    "hidden": true
   },
   "outputs": [],
   "source": [
    "select_df = select_df.reset_index()"
   ]
  },
  {
   "cell_type": "code",
   "execution_count": 20,
   "metadata": {
    "hidden": true
   },
   "outputs": [
    {
     "data": {
      "text/plain": [
       "0      https://muckrack.com/media-outlet/cbc-saskatch...\n",
       "1        https://muckrack.com/media-outlet/cbc-toronto-8\n",
       "2          https://muckrack.com/media-outlet/cbc_toronto\n",
       "3           https://muckrack.com/media-outlet/cbc_ottawa\n",
       "4            https://muckrack.com/media-outlet/cbcottawa\n",
       "                             ...                        \n",
       "277                https://muckrack.com/media-outlet/nfl\n",
       "278            https://muckrack.com/media-outlet/infobae\n",
       "279           https://muckrack.com/media-outlet/euronews\n",
       "280                https://muckrack.com/media-outlet/nhk\n",
       "281        https://muckrack.com/media-outlet/foxbusiness\n",
       "Name: muckrack_profile_url, Length: 282, dtype: object"
      ]
     },
     "execution_count": 20,
     "metadata": {},
     "output_type": "execute_result"
    }
   ],
   "source": [
    "select_df.muckrack_profile_url"
   ]
  },
  {
   "cell_type": "markdown",
   "metadata": {
    "heading_collapsed": true
   },
   "source": [
    "#### Pick up random rows + random authors"
   ]
  },
  {
   "cell_type": "code",
   "execution_count": 21,
   "metadata": {
    "hidden": true
   },
   "outputs": [
    {
     "data": {
      "text/html": [
       "<div>\n",
       "<style scoped>\n",
       "    .dataframe tbody tr th:only-of-type {\n",
       "        vertical-align: middle;\n",
       "    }\n",
       "\n",
       "    .dataframe tbody tr th {\n",
       "        vertical-align: top;\n",
       "    }\n",
       "\n",
       "    .dataframe thead th {\n",
       "        text-align: right;\n",
       "    }\n",
       "</style>\n",
       "<table border=\"1\" class=\"dataframe\">\n",
       "  <thead>\n",
       "    <tr style=\"text-align: right;\">\n",
       "      <th></th>\n",
       "      <th>index</th>\n",
       "      <th>Accepts contributed content</th>\n",
       "      <th>Broadcast Affiliation</th>\n",
       "      <th>Country</th>\n",
       "      <th>Days Published</th>\n",
       "      <th>Frequency</th>\n",
       "      <th>Instagram</th>\n",
       "      <th>Language</th>\n",
       "      <th>Media Market</th>\n",
       "      <th>Pinterest</th>\n",
       "      <th>...</th>\n",
       "      <th>t_profile_website</th>\n",
       "      <th>t_tweet</th>\n",
       "      <th>t_twitter_username</th>\n",
       "      <th>t_verified</th>\n",
       "      <th>twitter</th>\n",
       "      <th>url</th>\n",
       "      <th>youtube</th>\n",
       "      <th>multiple_url</th>\n",
       "      <th>alexa_ranking</th>\n",
       "      <th>clean_t_followers</th>\n",
       "    </tr>\n",
       "  </thead>\n",
       "  <tbody>\n",
       "    <tr>\n",
       "      <th>0</th>\n",
       "      <td>0</td>\n",
       "      <td>NaN</td>\n",
       "      <td>NaN</td>\n",
       "      <td>Canada</td>\n",
       "      <td>NaN</td>\n",
       "      <td>NaN</td>\n",
       "      <td>https://instagram.com/cbc</td>\n",
       "      <td>English</td>\n",
       "      <td>NaN</td>\n",
       "      <td>NaN</td>\n",
       "      <td>...</td>\n",
       "      <td>http://www.cbcnews.ca</td>\n",
       "      <td>Protected Account</td>\n",
       "      <td>@CBCNews</td>\n",
       "      <td>Verified account</td>\n",
       "      <td>https://twitter.com/CBCNews</td>\n",
       "      <td>http://cbc.ca/news/canada/saskatchewan</td>\n",
       "      <td>https://youtube.com/user/CBCtv</td>\n",
       "      <td>y</td>\n",
       "      <td>1289</td>\n",
       "      <td>3078927</td>\n",
       "    </tr>\n",
       "    <tr>\n",
       "      <th>1</th>\n",
       "      <td>2</td>\n",
       "      <td>NaN</td>\n",
       "      <td>NaN</td>\n",
       "      <td>Canada</td>\n",
       "      <td>NaN</td>\n",
       "      <td>NaN</td>\n",
       "      <td>https://instagram.com/cbc</td>\n",
       "      <td>English</td>\n",
       "      <td>NaN</td>\n",
       "      <td>NaN</td>\n",
       "      <td>...</td>\n",
       "      <td>http://www.cbcnews.ca</td>\n",
       "      <td>Protected Account</td>\n",
       "      <td>@CBCNews</td>\n",
       "      <td>Verified account</td>\n",
       "      <td>https://twitter.com/CBCNews</td>\n",
       "      <td>http://cbc.ca/news/canada/toronto</td>\n",
       "      <td>https://youtube.com/user/CBCtv</td>\n",
       "      <td>y</td>\n",
       "      <td>1289</td>\n",
       "      <td>3078927</td>\n",
       "    </tr>\n",
       "    <tr>\n",
       "      <th>2</th>\n",
       "      <td>3</td>\n",
       "      <td>NaN</td>\n",
       "      <td>NaN</td>\n",
       "      <td>Canada</td>\n",
       "      <td>NaN</td>\n",
       "      <td>NaN</td>\n",
       "      <td>https://instagram.com/cbc</td>\n",
       "      <td>English</td>\n",
       "      <td>NaN</td>\n",
       "      <td>NaN</td>\n",
       "      <td>...</td>\n",
       "      <td>http://www.cbc.ca/toronto</td>\n",
       "      <td>Protected Account</td>\n",
       "      <td>@CBCToronto</td>\n",
       "      <td>Verified account</td>\n",
       "      <td>https://twitter.com/CBCToronto</td>\n",
       "      <td>http://cbc.ca/news/canada/toronto</td>\n",
       "      <td>https://youtube.com/user/CBCtv</td>\n",
       "      <td>y</td>\n",
       "      <td>1289</td>\n",
       "      <td>606229</td>\n",
       "    </tr>\n",
       "    <tr>\n",
       "      <th>3</th>\n",
       "      <td>6</td>\n",
       "      <td>NaN</td>\n",
       "      <td>NaN</td>\n",
       "      <td>Canada</td>\n",
       "      <td>NaN</td>\n",
       "      <td>NaN</td>\n",
       "      <td>https://www.instagram.com/cbcottawa/?hl=en</td>\n",
       "      <td>English</td>\n",
       "      <td>NaN</td>\n",
       "      <td>NaN</td>\n",
       "      <td>...</td>\n",
       "      <td>http://cbc.ca/ottawa</td>\n",
       "      <td>Protected Account</td>\n",
       "      <td>@CBCOttawa</td>\n",
       "      <td>Verified account</td>\n",
       "      <td>https://twitter.com/CBCOttawa</td>\n",
       "      <td>http://cbc.ca/news/canada/ottawa</td>\n",
       "      <td>https://youtube.com/user/CBCtv</td>\n",
       "      <td>y</td>\n",
       "      <td>1289</td>\n",
       "      <td>241485</td>\n",
       "    </tr>\n",
       "    <tr>\n",
       "      <th>4</th>\n",
       "      <td>10</td>\n",
       "      <td>NaN</td>\n",
       "      <td>NaN</td>\n",
       "      <td>Canada</td>\n",
       "      <td>NaN</td>\n",
       "      <td>Weekly</td>\n",
       "      <td>https://www.instagram.com/cbcottawa/</td>\n",
       "      <td>English</td>\n",
       "      <td>NaN</td>\n",
       "      <td>NaN</td>\n",
       "      <td>...</td>\n",
       "      <td>http://cbc.ca/ottawa</td>\n",
       "      <td>Protected Account</td>\n",
       "      <td>@CBCOttawa</td>\n",
       "      <td>Verified account</td>\n",
       "      <td>https://twitter.com/CBCOttawa</td>\n",
       "      <td>https://www.cbc.ca/news/canada/ottawa</td>\n",
       "      <td>NaN</td>\n",
       "      <td>n</td>\n",
       "      <td>1289</td>\n",
       "      <td>241485</td>\n",
       "    </tr>\n",
       "    <tr>\n",
       "      <th>...</th>\n",
       "      <td>...</td>\n",
       "      <td>...</td>\n",
       "      <td>...</td>\n",
       "      <td>...</td>\n",
       "      <td>...</td>\n",
       "      <td>...</td>\n",
       "      <td>...</td>\n",
       "      <td>...</td>\n",
       "      <td>...</td>\n",
       "      <td>...</td>\n",
       "      <td>...</td>\n",
       "      <td>...</td>\n",
       "      <td>...</td>\n",
       "      <td>...</td>\n",
       "      <td>...</td>\n",
       "      <td>...</td>\n",
       "      <td>...</td>\n",
       "      <td>...</td>\n",
       "      <td>...</td>\n",
       "      <td>...</td>\n",
       "      <td>...</td>\n",
       "    </tr>\n",
       "    <tr>\n",
       "      <th>277</th>\n",
       "      <td>1071</td>\n",
       "      <td>NaN</td>\n",
       "      <td>NaN</td>\n",
       "      <td>United States of America</td>\n",
       "      <td>NaN</td>\n",
       "      <td>NaN</td>\n",
       "      <td>NaN</td>\n",
       "      <td>English</td>\n",
       "      <td>NaN</td>\n",
       "      <td>NaN</td>\n",
       "      <td>...</td>\n",
       "      <td>http://nfl.com/network</td>\n",
       "      <td>Protected Account</td>\n",
       "      <td>@nflnetwork</td>\n",
       "      <td>Verified account</td>\n",
       "      <td>https://twitter.com/nflnetwork</td>\n",
       "      <td>http://nfl.com</td>\n",
       "      <td>NaN</td>\n",
       "      <td>n</td>\n",
       "      <td>1408</td>\n",
       "      <td>4124366</td>\n",
       "    </tr>\n",
       "    <tr>\n",
       "      <th>278</th>\n",
       "      <td>1077</td>\n",
       "      <td>NaN</td>\n",
       "      <td>NaN</td>\n",
       "      <td>Argentina</td>\n",
       "      <td>Mon, \\r\\r\\nTue, \\r\\r\\nWed, \\r\\r\\nThu, \\r\\r\\nFr...</td>\n",
       "      <td>Daily</td>\n",
       "      <td>https://www.instagram.com/infobaeamerica/</td>\n",
       "      <td>Spanish</td>\n",
       "      <td>NaN</td>\n",
       "      <td>NaN</td>\n",
       "      <td>...</td>\n",
       "      <td>http://infobae.com/america</td>\n",
       "      <td>Protected Account</td>\n",
       "      <td>@infobaeamerica</td>\n",
       "      <td>Verified account</td>\n",
       "      <td>https://twitter.com/InfobaeAmerica</td>\n",
       "      <td>http://infobae.com</td>\n",
       "      <td>https://www.youtube.com/c/infobae</td>\n",
       "      <td>n</td>\n",
       "      <td>695</td>\n",
       "      <td>1270539</td>\n",
       "    </tr>\n",
       "    <tr>\n",
       "      <th>279</th>\n",
       "      <td>1086</td>\n",
       "      <td>NaN</td>\n",
       "      <td>NaN</td>\n",
       "      <td>France</td>\n",
       "      <td>NaN</td>\n",
       "      <td>NaN</td>\n",
       "      <td>https://instagram.com/euronews.tv</td>\n",
       "      <td>Arabic, \\r\\r\\n                    \\r\\r\\n      ...</td>\n",
       "      <td>NaN</td>\n",
       "      <td>NaN</td>\n",
       "      <td>...</td>\n",
       "      <td>http://www.euronews.com/</td>\n",
       "      <td>Protected Account</td>\n",
       "      <td>@euronews</td>\n",
       "      <td>Verified account</td>\n",
       "      <td>https://twitter.com/euronews</td>\n",
       "      <td>http://euronews.com</td>\n",
       "      <td>http://www.youtube.com/euronews</td>\n",
       "      <td>n</td>\n",
       "      <td>2426</td>\n",
       "      <td>459247</td>\n",
       "    </tr>\n",
       "    <tr>\n",
       "      <th>280</th>\n",
       "      <td>1088</td>\n",
       "      <td>NaN</td>\n",
       "      <td>NaN</td>\n",
       "      <td>Japan</td>\n",
       "      <td>NaN</td>\n",
       "      <td>NaN</td>\n",
       "      <td>NaN</td>\n",
       "      <td>English, \\r\\r\\n                    \\r\\r\\n     ...</td>\n",
       "      <td>NaN</td>\n",
       "      <td>NaN</td>\n",
       "      <td>...</td>\n",
       "      <td>http://www6.nhk.or.jp/nhkpr/</td>\n",
       "      <td>Protected Account</td>\n",
       "      <td>@NHK_PR</td>\n",
       "      <td>Verified account</td>\n",
       "      <td>https://twitter.com/NHK_PR</td>\n",
       "      <td>http://nhk.or.jp/nhkworld/</td>\n",
       "      <td>https://www.youtube.com/user/NHKWorld</td>\n",
       "      <td>n</td>\n",
       "      <td>705</td>\n",
       "      <td>2141031</td>\n",
       "    </tr>\n",
       "    <tr>\n",
       "      <th>281</th>\n",
       "      <td>1101</td>\n",
       "      <td>NaN</td>\n",
       "      <td>FOX</td>\n",
       "      <td>United States of America</td>\n",
       "      <td>NaN</td>\n",
       "      <td>NaN</td>\n",
       "      <td>https://www.instagram.com/foxbusiness/?hl=en</td>\n",
       "      <td>English</td>\n",
       "      <td>NaN</td>\n",
       "      <td>NaN</td>\n",
       "      <td>...</td>\n",
       "      <td>http://www.foxbusiness.com</td>\n",
       "      <td>Protected Account</td>\n",
       "      <td>@FoxBusiness</td>\n",
       "      <td>Verified account</td>\n",
       "      <td>https://twitter.com/FoxBusiness</td>\n",
       "      <td>http://foxbusiness.com</td>\n",
       "      <td>https://www.youtube.com/user/FoxBusinessNetwork</td>\n",
       "      <td>n</td>\n",
       "      <td>2435</td>\n",
       "      <td>787694</td>\n",
       "    </tr>\n",
       "  </tbody>\n",
       "</table>\n",
       "<p>282 rows × 44 columns</p>\n",
       "</div>"
      ],
      "text/plain": [
       "     index Accepts contributed content Broadcast Affiliation  \\\n",
       "0        0                         NaN                   NaN   \n",
       "1        2                         NaN                   NaN   \n",
       "2        3                         NaN                   NaN   \n",
       "3        6                         NaN                   NaN   \n",
       "4       10                         NaN                   NaN   \n",
       "..     ...                         ...                   ...   \n",
       "277   1071                         NaN                   NaN   \n",
       "278   1077                         NaN                   NaN   \n",
       "279   1086                         NaN                   NaN   \n",
       "280   1088                         NaN                   NaN   \n",
       "281   1101                         NaN                   FOX   \n",
       "\n",
       "                      Country  \\\n",
       "0                      Canada   \n",
       "1                      Canada   \n",
       "2                      Canada   \n",
       "3                      Canada   \n",
       "4                      Canada   \n",
       "..                        ...   \n",
       "277  United States of America   \n",
       "278                 Argentina   \n",
       "279                    France   \n",
       "280                     Japan   \n",
       "281  United States of America   \n",
       "\n",
       "                                        Days Published Frequency  \\\n",
       "0                                                  NaN       NaN   \n",
       "1                                                  NaN       NaN   \n",
       "2                                                  NaN       NaN   \n",
       "3                                                  NaN       NaN   \n",
       "4                                                  NaN    Weekly   \n",
       "..                                                 ...       ...   \n",
       "277                                                NaN       NaN   \n",
       "278  Mon, \\r\\r\\nTue, \\r\\r\\nWed, \\r\\r\\nThu, \\r\\r\\nFr...     Daily   \n",
       "279                                                NaN       NaN   \n",
       "280                                                NaN       NaN   \n",
       "281                                                NaN       NaN   \n",
       "\n",
       "                                        Instagram  \\\n",
       "0                       https://instagram.com/cbc   \n",
       "1                       https://instagram.com/cbc   \n",
       "2                       https://instagram.com/cbc   \n",
       "3      https://www.instagram.com/cbcottawa/?hl=en   \n",
       "4            https://www.instagram.com/cbcottawa/   \n",
       "..                                            ...   \n",
       "277                                           NaN   \n",
       "278     https://www.instagram.com/infobaeamerica/   \n",
       "279             https://instagram.com/euronews.tv   \n",
       "280                                           NaN   \n",
       "281  https://www.instagram.com/foxbusiness/?hl=en   \n",
       "\n",
       "                                              Language Media Market Pinterest  \\\n",
       "0                                              English          NaN       NaN   \n",
       "1                                              English          NaN       NaN   \n",
       "2                                              English          NaN       NaN   \n",
       "3                                              English          NaN       NaN   \n",
       "4                                              English          NaN       NaN   \n",
       "..                                                 ...          ...       ...   \n",
       "277                                            English          NaN       NaN   \n",
       "278                                            Spanish          NaN       NaN   \n",
       "279  Arabic, \\r\\r\\n                    \\r\\r\\n      ...          NaN       NaN   \n",
       "280  English, \\r\\r\\n                    \\r\\r\\n     ...          NaN       NaN   \n",
       "281                                            English          NaN       NaN   \n",
       "\n",
       "     ...             t_profile_website            t_tweet t_twitter_username  \\\n",
       "0    ...         http://www.cbcnews.ca  Protected Account           @CBCNews   \n",
       "1    ...         http://www.cbcnews.ca  Protected Account           @CBCNews   \n",
       "2    ...     http://www.cbc.ca/toronto  Protected Account        @CBCToronto   \n",
       "3    ...          http://cbc.ca/ottawa  Protected Account         @CBCOttawa   \n",
       "4    ...          http://cbc.ca/ottawa  Protected Account         @CBCOttawa   \n",
       "..   ...                           ...                ...                ...   \n",
       "277  ...        http://nfl.com/network  Protected Account        @nflnetwork   \n",
       "278  ...    http://infobae.com/america  Protected Account    @infobaeamerica   \n",
       "279  ...      http://www.euronews.com/  Protected Account          @euronews   \n",
       "280  ...  http://www6.nhk.or.jp/nhkpr/  Protected Account            @NHK_PR   \n",
       "281  ...    http://www.foxbusiness.com  Protected Account       @FoxBusiness   \n",
       "\n",
       "           t_verified                             twitter  \\\n",
       "0    Verified account         https://twitter.com/CBCNews   \n",
       "1    Verified account         https://twitter.com/CBCNews   \n",
       "2    Verified account      https://twitter.com/CBCToronto   \n",
       "3    Verified account       https://twitter.com/CBCOttawa   \n",
       "4    Verified account       https://twitter.com/CBCOttawa   \n",
       "..                ...                                 ...   \n",
       "277  Verified account      https://twitter.com/nflnetwork   \n",
       "278  Verified account  https://twitter.com/InfobaeAmerica   \n",
       "279  Verified account        https://twitter.com/euronews   \n",
       "280  Verified account          https://twitter.com/NHK_PR   \n",
       "281  Verified account     https://twitter.com/FoxBusiness   \n",
       "\n",
       "                                        url  \\\n",
       "0    http://cbc.ca/news/canada/saskatchewan   \n",
       "1         http://cbc.ca/news/canada/toronto   \n",
       "2         http://cbc.ca/news/canada/toronto   \n",
       "3          http://cbc.ca/news/canada/ottawa   \n",
       "4     https://www.cbc.ca/news/canada/ottawa   \n",
       "..                                      ...   \n",
       "277                          http://nfl.com   \n",
       "278                      http://infobae.com   \n",
       "279                     http://euronews.com   \n",
       "280              http://nhk.or.jp/nhkworld/   \n",
       "281                  http://foxbusiness.com   \n",
       "\n",
       "                                             youtube  multiple_url  \\\n",
       "0                     https://youtube.com/user/CBCtv             y   \n",
       "1                     https://youtube.com/user/CBCtv             y   \n",
       "2                     https://youtube.com/user/CBCtv             y   \n",
       "3                     https://youtube.com/user/CBCtv             y   \n",
       "4                                                NaN             n   \n",
       "..                                               ...           ...   \n",
       "277                                              NaN             n   \n",
       "278                https://www.youtube.com/c/infobae             n   \n",
       "279                  http://www.youtube.com/euronews             n   \n",
       "280            https://www.youtube.com/user/NHKWorld             n   \n",
       "281  https://www.youtube.com/user/FoxBusinessNetwork             n   \n",
       "\n",
       "    alexa_ranking clean_t_followers  \n",
       "0            1289           3078927  \n",
       "1            1289           3078927  \n",
       "2            1289            606229  \n",
       "3            1289            241485  \n",
       "4            1289            241485  \n",
       "..            ...               ...  \n",
       "277          1408           4124366  \n",
       "278           695           1270539  \n",
       "279          2426            459247  \n",
       "280           705           2141031  \n",
       "281          2435            787694  \n",
       "\n",
       "[282 rows x 44 columns]"
      ]
     },
     "execution_count": 21,
     "metadata": {},
     "output_type": "execute_result"
    }
   ],
   "source": [
    "select_df"
   ]
  },
  {
   "cell_type": "code",
   "execution_count": 22,
   "metadata": {
    "hidden": true
   },
   "outputs": [],
   "source": [
    "random_rows = [random.randint(0, len(select_df) - 1) for i in range(200)]\n",
    "random_journos = []"
   ]
  },
  {
   "cell_type": "code",
   "execution_count": 23,
   "metadata": {
    "hidden": true,
    "scrolled": true
   },
   "outputs": [],
   "source": [
    "for i in random_rows:\n",
    "    journos = json.loads(select_df.iloc[i].journalist)\n",
    "    journo = random.choice(journos)\n",
    "    random_journos.append(journo)"
   ]
  },
  {
   "cell_type": "code",
   "execution_count": 24,
   "metadata": {
    "hidden": true
   },
   "outputs": [
    {
     "data": {
      "text/plain": [
       "200"
      ]
     },
     "execution_count": 24,
     "metadata": {},
     "output_type": "execute_result"
    }
   ],
   "source": [
    "len(random_journos)"
   ]
  },
  {
   "cell_type": "markdown",
   "metadata": {},
   "source": [
    "#### Fetch articles"
   ]
  },
  {
   "cell_type": "code",
   "execution_count": 25,
   "metadata": {},
   "outputs": [
    {
     "name": "stderr",
     "output_type": "stream",
     "text": [
      "[nltk_data] Downloading package stopwords to\n",
      "[nltk_data]     C:\\Users\\ACER\\AppData\\Roaming\\nltk_data...\n",
      "[nltk_data]   Package stopwords is already up-to-date!\n",
      "[nltk_data] Downloading package wordnet to\n",
      "[nltk_data]     C:\\Users\\ACER\\AppData\\Roaming\\nltk_data...\n",
      "[nltk_data]   Package wordnet is already up-to-date!\n"
     ]
    }
   ],
   "source": [
    "nltk.download('stopwords')\n",
    "nltk.download('wordnet')\n",
    "stop = set(stopwords.words('english'))\n",
    "exclude = set(string.punctuation)\n",
    "lemma = WordNetLemmatizer()"
   ]
  },
  {
   "cell_type": "code",
   "execution_count": 26,
   "metadata": {},
   "outputs": [],
   "source": [
    "def clean(doc):\n",
    "    doc = ftfy.fix_text(doc)\n",
    "    stop_free = \" \".join([i for i in doc.lower().split() if i not in stop])\n",
    "    punc_free = ''.join(ch for ch in stop_free if ch not in exclude)\n",
    "    normalized = \" \".join(lemma.lemmatize(word) for word in punc_free.split())\n",
    "    processed = re.sub(r\"\\d+\",\"\", normalized)\n",
    "    y = processed.split()\n",
    "    return ' '.join(y)"
   ]
  },
  {
   "cell_type": "code",
   "execution_count": 27,
   "metadata": {},
   "outputs": [],
   "source": [
    "analyze_df = pd.DataFrame(columns = ['name', 'url', 'title', 'description', 'content', 'beat', 'predicted'])"
   ]
  },
  {
   "cell_type": "code",
   "execution_count": 28,
   "metadata": {},
   "outputs": [],
   "source": [
    "for i in range(len(random_journos)):\n",
    "    \n",
    "    try:\n",
    "    \n",
    "        name = random_journos[i]['name']\n",
    "        muckrack = random_journos[i]['profile_url'] + '/articles'\n",
    "\n",
    "        req = Request(muckrack, headers = {'User-Agent': 'Mozilla/5.0'})\n",
    "        sauce = urlopen(req).read()\n",
    "        soup = bs.BeautifulSoup(sauce,'lxml')\n",
    "\n",
    "        beat = soup.find(class_ = 'person-details-beats').find_all('a')\n",
    "        beat = \", \".join([i.text for i in beat])\n",
    "\n",
    "        articles = soup.find_all(class_ = \"news-story\")\n",
    "\n",
    "        for article in articles:\n",
    "            title = article.find(class_ = 'news-story-title').text\n",
    "            description = article.find(class_ = 'news-story-body').text.split('—')[1].strip()\n",
    "            if langdetect.detect(description) == 'en':\n",
    "                content = clean(title * 4 + description * 2)\n",
    "\n",
    "                # print(name, muckrack, title, description, content, beat)\n",
    "                analyze_df = analyze_df.append({'name': name, 'url': muckrack, 'title': title, 'description': description, \n",
    "                                                'content': content, 'beat': beat, 'predicted': '-'}, ignore_index = True)\n",
    "    \n",
    "    except:\n",
    "        pass"
   ]
  },
  {
   "cell_type": "code",
   "execution_count": 29,
   "metadata": {
    "scrolled": true
   },
   "outputs": [
    {
     "data": {
      "text/html": [
       "<div>\n",
       "<style scoped>\n",
       "    .dataframe tbody tr th:only-of-type {\n",
       "        vertical-align: middle;\n",
       "    }\n",
       "\n",
       "    .dataframe tbody tr th {\n",
       "        vertical-align: top;\n",
       "    }\n",
       "\n",
       "    .dataframe thead th {\n",
       "        text-align: right;\n",
       "    }\n",
       "</style>\n",
       "<table border=\"1\" class=\"dataframe\">\n",
       "  <thead>\n",
       "    <tr style=\"text-align: right;\">\n",
       "      <th></th>\n",
       "      <th>name</th>\n",
       "      <th>url</th>\n",
       "      <th>title</th>\n",
       "      <th>description</th>\n",
       "      <th>content</th>\n",
       "      <th>beat</th>\n",
       "      <th>predicted</th>\n",
       "    </tr>\n",
       "  </thead>\n",
       "  <tbody>\n",
       "    <tr>\n",
       "      <th>0</th>\n",
       "      <td>Silberman, Alexandre</td>\n",
       "      <td>https://muckrack.com/alexsilbermanvt/articles</td>\n",
       "      <td>Homesteading lifestyle makes a comeback in New...</td>\n",
       "      <td>Hundreds of people are drastically changing th...</td>\n",
       "      <td>homesteading lifestyle make comeback new bruns...</td>\n",
       "      <td>Canada, Crime and Justice</td>\n",
       "      <td>-</td>\n",
       "    </tr>\n",
       "    <tr>\n",
       "      <th>1</th>\n",
       "      <td>Silberman, Alexandre</td>\n",
       "      <td>https://muckrack.com/alexsilbermanvt/articles</td>\n",
       "      <td>Province to allow exceptions to hotel self-iso...</td>\n",
       "      <td>© Shane Fowler/CBC The Delta Fredericton is on...</td>\n",
       "      <td>province allow exception hotel selfisolation r...</td>\n",
       "      <td>Canada, Crime and Justice</td>\n",
       "      <td>-</td>\n",
       "    </tr>\n",
       "    <tr>\n",
       "      <th>2</th>\n",
       "      <td>Silberman, Alexandre</td>\n",
       "      <td>https://muckrack.com/alexsilbermanvt/articles</td>\n",
       "      <td>New Brunswick to allow exceptions to hotel sel...</td>\n",
       "      <td>New Brunswick is easing self-isolation rules a...</td>\n",
       "      <td>new brunswick allow exception hotel selfisolat...</td>\n",
       "      <td>Canada, Crime and Justice</td>\n",
       "      <td>-</td>\n",
       "    </tr>\n",
       "    <tr>\n",
       "      <th>3</th>\n",
       "      <td>Silberman, Alexandre</td>\n",
       "      <td>https://muckrack.com/alexsilbermanvt/articles</td>\n",
       "      <td>N.B. COVID-19 roundup: 2nd pandemic election b...</td>\n",
       "      <td>New Brunswickers are beginning to cast ballots...</td>\n",
       "      <td>nb covid roundup nd pandemic election begin ad...</td>\n",
       "      <td>Canada, Crime and Justice</td>\n",
       "      <td>-</td>\n",
       "    </tr>\n",
       "    <tr>\n",
       "      <th>4</th>\n",
       "      <td>Silberman, Alexandre</td>\n",
       "      <td>https://muckrack.com/alexsilbermanvt/articles</td>\n",
       "      <td>N.B. rotational workers disheartened after sud...</td>\n",
       "      <td>New Brunswick had announced loosened restricti...</td>\n",
       "      <td>nb rotational worker disheartened sudden chang...</td>\n",
       "      <td>Canada, Crime and Justice</td>\n",
       "      <td>-</td>\n",
       "    </tr>\n",
       "    <tr>\n",
       "      <th>...</th>\n",
       "      <td>...</td>\n",
       "      <td>...</td>\n",
       "      <td>...</td>\n",
       "      <td>...</td>\n",
       "      <td>...</td>\n",
       "      <td>...</td>\n",
       "      <td>...</td>\n",
       "    </tr>\n",
       "    <tr>\n",
       "      <th>2965</th>\n",
       "      <td>Knupper, Franziska</td>\n",
       "      <td>https://muckrack.com/franziska-knupper/articles</td>\n",
       "      <td>ADAC Reiseführer Israel und Palästina TRAVELGU...</td>\n",
       "      <td>8 subscriptions and 3 subscribersBookADAC Reis...</td>\n",
       "      <td>adac reiseführer israel und palästina travelgu...</td>\n",
       "      <td>Israel</td>\n",
       "      <td>-</td>\n",
       "    </tr>\n",
       "    <tr>\n",
       "      <th>2966</th>\n",
       "      <td>Knupper, Franziska</td>\n",
       "      <td>https://muckrack.com/franziska-knupper/articles</td>\n",
       "      <td>Gefühlsdoping: Was kann der Liebestrank für an...</td>\n",
       "      <td>8 subscriptions and 3 subscribersGefühlsdoping...</td>\n",
       "      <td>gefühlsdoping kann der liebestrank für angekna...</td>\n",
       "      <td>Israel</td>\n",
       "      <td>-</td>\n",
       "    </tr>\n",
       "    <tr>\n",
       "      <th>2967</th>\n",
       "      <td>Knupper, Franziska</td>\n",
       "      <td>https://muckrack.com/franziska-knupper/articles</td>\n",
       "      <td>Franziska Knupper</td>\n",
       "      <td>8 subscriptions and 3 subscribershttp://www.sw...</td>\n",
       "      <td>franziska knupperfranziska knupperfranziska kn...</td>\n",
       "      <td>Israel</td>\n",
       "      <td>-</td>\n",
       "    </tr>\n",
       "    <tr>\n",
       "      <th>2968</th>\n",
       "      <td>Knupper, Franziska</td>\n",
       "      <td>https://muckrack.com/franziska-knupper/articles</td>\n",
       "      <td>Social Media Intifada</td>\n",
       "      <td>Article: Israel, Nahostkonflikt, Middle East, ...</td>\n",
       "      <td>social medium intifadasocial medium intifadaso...</td>\n",
       "      <td>Israel</td>\n",
       "      <td>-</td>\n",
       "    </tr>\n",
       "    <tr>\n",
       "      <th>2969</th>\n",
       "      <td>Knupper, Franziska</td>\n",
       "      <td>https://muckrack.com/franziska-knupper/articles</td>\n",
       "      <td>Franziska Knupper</td>\n",
       "      <td>Reportage spécial: Bildung, Universität, Israe...</td>\n",
       "      <td>franziska knupperfranziska knupperfranziska kn...</td>\n",
       "      <td>Israel</td>\n",
       "      <td>-</td>\n",
       "    </tr>\n",
       "  </tbody>\n",
       "</table>\n",
       "<p>2970 rows × 7 columns</p>\n",
       "</div>"
      ],
      "text/plain": [
       "                      name                                              url  \\\n",
       "0     Silberman, Alexandre    https://muckrack.com/alexsilbermanvt/articles   \n",
       "1     Silberman, Alexandre    https://muckrack.com/alexsilbermanvt/articles   \n",
       "2     Silberman, Alexandre    https://muckrack.com/alexsilbermanvt/articles   \n",
       "3     Silberman, Alexandre    https://muckrack.com/alexsilbermanvt/articles   \n",
       "4     Silberman, Alexandre    https://muckrack.com/alexsilbermanvt/articles   \n",
       "...                    ...                                              ...   \n",
       "2965    Knupper, Franziska  https://muckrack.com/franziska-knupper/articles   \n",
       "2966    Knupper, Franziska  https://muckrack.com/franziska-knupper/articles   \n",
       "2967    Knupper, Franziska  https://muckrack.com/franziska-knupper/articles   \n",
       "2968    Knupper, Franziska  https://muckrack.com/franziska-knupper/articles   \n",
       "2969    Knupper, Franziska  https://muckrack.com/franziska-knupper/articles   \n",
       "\n",
       "                                                  title  \\\n",
       "0     Homesteading lifestyle makes a comeback in New...   \n",
       "1     Province to allow exceptions to hotel self-iso...   \n",
       "2     New Brunswick to allow exceptions to hotel sel...   \n",
       "3     N.B. COVID-19 roundup: 2nd pandemic election b...   \n",
       "4     N.B. rotational workers disheartened after sud...   \n",
       "...                                                 ...   \n",
       "2965  ADAC Reiseführer Israel und Palästina TRAVELGU...   \n",
       "2966  Gefühlsdoping: Was kann der Liebestrank für an...   \n",
       "2967                                  Franziska Knupper   \n",
       "2968                              Social Media Intifada   \n",
       "2969                                  Franziska Knupper   \n",
       "\n",
       "                                            description  \\\n",
       "0     Hundreds of people are drastically changing th...   \n",
       "1     © Shane Fowler/CBC The Delta Fredericton is on...   \n",
       "2     New Brunswick is easing self-isolation rules a...   \n",
       "3     New Brunswickers are beginning to cast ballots...   \n",
       "4     New Brunswick had announced loosened restricti...   \n",
       "...                                                 ...   \n",
       "2965  8 subscriptions and 3 subscribersBookADAC Reis...   \n",
       "2966  8 subscriptions and 3 subscribersGefühlsdoping...   \n",
       "2967  8 subscriptions and 3 subscribershttp://www.sw...   \n",
       "2968  Article: Israel, Nahostkonflikt, Middle East, ...   \n",
       "2969  Reportage spécial: Bildung, Universität, Israe...   \n",
       "\n",
       "                                                content  \\\n",
       "0     homesteading lifestyle make comeback new bruns...   \n",
       "1     province allow exception hotel selfisolation r...   \n",
       "2     new brunswick allow exception hotel selfisolat...   \n",
       "3     nb covid roundup nd pandemic election begin ad...   \n",
       "4     nb rotational worker disheartened sudden chang...   \n",
       "...                                                 ...   \n",
       "2965  adac reiseführer israel und palästina travelgu...   \n",
       "2966  gefühlsdoping kann der liebestrank für angekna...   \n",
       "2967  franziska knupperfranziska knupperfranziska kn...   \n",
       "2968  social medium intifadasocial medium intifadaso...   \n",
       "2969  franziska knupperfranziska knupperfranziska kn...   \n",
       "\n",
       "                           beat predicted  \n",
       "0     Canada, Crime and Justice         -  \n",
       "1     Canada, Crime and Justice         -  \n",
       "2     Canada, Crime and Justice         -  \n",
       "3     Canada, Crime and Justice         -  \n",
       "4     Canada, Crime and Justice         -  \n",
       "...                         ...       ...  \n",
       "2965                     Israel         -  \n",
       "2966                     Israel         -  \n",
       "2967                     Israel         -  \n",
       "2968                     Israel         -  \n",
       "2969                     Israel         -  \n",
       "\n",
       "[2970 rows x 7 columns]"
      ]
     },
     "execution_count": 29,
     "metadata": {},
     "output_type": "execute_result"
    }
   ],
   "source": [
    "analyze_df"
   ]
  },
  {
   "cell_type": "markdown",
   "metadata": {},
   "source": [
    "#### Make predictions"
   ]
  },
  {
   "cell_type": "code",
   "execution_count": 30,
   "metadata": {},
   "outputs": [],
   "source": [
    "iab_mod = pickle.load(open('../Data/IAB/IAB_classifier_2.p','rb'))\n",
    "iab_vec = pickle.load(open('../Data/IAB/IAB_vectorizer_2.p','rb'))\n",
    "iab_bin = pickle.load(open('../Data/IAB/IAB_binarizer_2.p','rb'))"
   ]
  },
  {
   "cell_type": "code",
   "execution_count": 31,
   "metadata": {},
   "outputs": [],
   "source": [
    "def iab_taxonomy_v2(text):\n",
    "    text = clean(text)\n",
    "    text = iab_vec.transform([text])\n",
    "    res = iab_bin.inverse_transform(iab_mod.predict(text))\n",
    "    return res"
   ]
  },
  {
   "cell_type": "code",
   "execution_count": 32,
   "metadata": {},
   "outputs": [],
   "source": [
    "analyze_df['predicted'] = analyze_df.apply(lambda x: iab_taxonomy_v2(x['content']), axis = 1)"
   ]
  },
  {
   "cell_type": "code",
   "execution_count": 33,
   "metadata": {
    "scrolled": true
   },
   "outputs": [
    {
     "data": {
      "text/html": [
       "<div>\n",
       "<style scoped>\n",
       "    .dataframe tbody tr th:only-of-type {\n",
       "        vertical-align: middle;\n",
       "    }\n",
       "\n",
       "    .dataframe tbody tr th {\n",
       "        vertical-align: top;\n",
       "    }\n",
       "\n",
       "    .dataframe thead th {\n",
       "        text-align: right;\n",
       "    }\n",
       "</style>\n",
       "<table border=\"1\" class=\"dataframe\">\n",
       "  <thead>\n",
       "    <tr style=\"text-align: right;\">\n",
       "      <th></th>\n",
       "      <th>name</th>\n",
       "      <th>url</th>\n",
       "      <th>title</th>\n",
       "      <th>description</th>\n",
       "      <th>content</th>\n",
       "      <th>beat</th>\n",
       "      <th>predicted</th>\n",
       "    </tr>\n",
       "  </thead>\n",
       "  <tbody>\n",
       "    <tr>\n",
       "      <th>0</th>\n",
       "      <td>Silberman, Alexandre</td>\n",
       "      <td>https://muckrack.com/alexsilbermanvt/articles</td>\n",
       "      <td>Homesteading lifestyle makes a comeback in New...</td>\n",
       "      <td>Hundreds of people are drastically changing th...</td>\n",
       "      <td>homesteading lifestyle make comeback new bruns...</td>\n",
       "      <td>Canada, Crime and Justice</td>\n",
       "      <td>[(-,)]</td>\n",
       "    </tr>\n",
       "    <tr>\n",
       "      <th>1</th>\n",
       "      <td>Silberman, Alexandre</td>\n",
       "      <td>https://muckrack.com/alexsilbermanvt/articles</td>\n",
       "      <td>Province to allow exceptions to hotel self-iso...</td>\n",
       "      <td>© Shane Fowler/CBC The Delta Fredericton is on...</td>\n",
       "      <td>province allow exception hotel selfisolation r...</td>\n",
       "      <td>Canada, Crime and Justice</td>\n",
       "      <td>[(-, Content Source Geo, Country)]</td>\n",
       "    </tr>\n",
       "    <tr>\n",
       "      <th>2</th>\n",
       "      <td>Silberman, Alexandre</td>\n",
       "      <td>https://muckrack.com/alexsilbermanvt/articles</td>\n",
       "      <td>New Brunswick to allow exceptions to hotel sel...</td>\n",
       "      <td>New Brunswick is easing self-isolation rules a...</td>\n",
       "      <td>new brunswick allow exception hotel selfisolat...</td>\n",
       "      <td>Canada, Crime and Justice</td>\n",
       "      <td>[(-, Content Source Geo, Country)]</td>\n",
       "    </tr>\n",
       "    <tr>\n",
       "      <th>3</th>\n",
       "      <td>Silberman, Alexandre</td>\n",
       "      <td>https://muckrack.com/alexsilbermanvt/articles</td>\n",
       "      <td>N.B. COVID-19 roundup: 2nd pandemic election b...</td>\n",
       "      <td>New Brunswickers are beginning to cast ballots...</td>\n",
       "      <td>nb covid roundup nd pandemic election begin ad...</td>\n",
       "      <td>Canada, Crime and Justice</td>\n",
       "      <td>[(-,)]</td>\n",
       "    </tr>\n",
       "    <tr>\n",
       "      <th>4</th>\n",
       "      <td>Silberman, Alexandre</td>\n",
       "      <td>https://muckrack.com/alexsilbermanvt/articles</td>\n",
       "      <td>N.B. rotational workers disheartened after sud...</td>\n",
       "      <td>New Brunswick had announced loosened restricti...</td>\n",
       "      <td>nb rotational worker disheartened sudden chang...</td>\n",
       "      <td>Canada, Crime and Justice</td>\n",
       "      <td>[(-,)]</td>\n",
       "    </tr>\n",
       "    <tr>\n",
       "      <th>...</th>\n",
       "      <td>...</td>\n",
       "      <td>...</td>\n",
       "      <td>...</td>\n",
       "      <td>...</td>\n",
       "      <td>...</td>\n",
       "      <td>...</td>\n",
       "      <td>...</td>\n",
       "    </tr>\n",
       "    <tr>\n",
       "      <th>2965</th>\n",
       "      <td>Knupper, Franziska</td>\n",
       "      <td>https://muckrack.com/franziska-knupper/articles</td>\n",
       "      <td>ADAC Reiseführer Israel und Palästina TRAVELGU...</td>\n",
       "      <td>8 subscriptions and 3 subscribersBookADAC Reis...</td>\n",
       "      <td>adac reiseführer israel und palästina travelgu...</td>\n",
       "      <td>Israel</td>\n",
       "      <td>[(-, Content Source Geo, Country)]</td>\n",
       "    </tr>\n",
       "    <tr>\n",
       "      <th>2966</th>\n",
       "      <td>Knupper, Franziska</td>\n",
       "      <td>https://muckrack.com/franziska-knupper/articles</td>\n",
       "      <td>Gefühlsdoping: Was kann der Liebestrank für an...</td>\n",
       "      <td>8 subscriptions and 3 subscribersGefühlsdoping...</td>\n",
       "      <td>gefühlsdoping kann der liebestrank für angekna...</td>\n",
       "      <td>Israel</td>\n",
       "      <td>[(-,)]</td>\n",
       "    </tr>\n",
       "    <tr>\n",
       "      <th>2967</th>\n",
       "      <td>Knupper, Franziska</td>\n",
       "      <td>https://muckrack.com/franziska-knupper/articles</td>\n",
       "      <td>Franziska Knupper</td>\n",
       "      <td>8 subscriptions and 3 subscribershttp://www.sw...</td>\n",
       "      <td>franziska knupperfranziska knupperfranziska kn...</td>\n",
       "      <td>Israel</td>\n",
       "      <td>[(-,)]</td>\n",
       "    </tr>\n",
       "    <tr>\n",
       "      <th>2968</th>\n",
       "      <td>Knupper, Franziska</td>\n",
       "      <td>https://muckrack.com/franziska-knupper/articles</td>\n",
       "      <td>Social Media Intifada</td>\n",
       "      <td>Article: Israel, Nahostkonflikt, Middle East, ...</td>\n",
       "      <td>social medium intifadasocial medium intifadaso...</td>\n",
       "      <td>Israel</td>\n",
       "      <td>[(Computing, Internet, Social Networking, Tech...</td>\n",
       "    </tr>\n",
       "    <tr>\n",
       "      <th>2969</th>\n",
       "      <td>Knupper, Franziska</td>\n",
       "      <td>https://muckrack.com/franziska-knupper/articles</td>\n",
       "      <td>Franziska Knupper</td>\n",
       "      <td>Reportage spécial: Bildung, Universität, Israe...</td>\n",
       "      <td>franziska knupperfranziska knupperfranziska kn...</td>\n",
       "      <td>Israel</td>\n",
       "      <td>[(-, Content Source Geo, Country)]</td>\n",
       "    </tr>\n",
       "  </tbody>\n",
       "</table>\n",
       "<p>2970 rows × 7 columns</p>\n",
       "</div>"
      ],
      "text/plain": [
       "                      name                                              url  \\\n",
       "0     Silberman, Alexandre    https://muckrack.com/alexsilbermanvt/articles   \n",
       "1     Silberman, Alexandre    https://muckrack.com/alexsilbermanvt/articles   \n",
       "2     Silberman, Alexandre    https://muckrack.com/alexsilbermanvt/articles   \n",
       "3     Silberman, Alexandre    https://muckrack.com/alexsilbermanvt/articles   \n",
       "4     Silberman, Alexandre    https://muckrack.com/alexsilbermanvt/articles   \n",
       "...                    ...                                              ...   \n",
       "2965    Knupper, Franziska  https://muckrack.com/franziska-knupper/articles   \n",
       "2966    Knupper, Franziska  https://muckrack.com/franziska-knupper/articles   \n",
       "2967    Knupper, Franziska  https://muckrack.com/franziska-knupper/articles   \n",
       "2968    Knupper, Franziska  https://muckrack.com/franziska-knupper/articles   \n",
       "2969    Knupper, Franziska  https://muckrack.com/franziska-knupper/articles   \n",
       "\n",
       "                                                  title  \\\n",
       "0     Homesteading lifestyle makes a comeback in New...   \n",
       "1     Province to allow exceptions to hotel self-iso...   \n",
       "2     New Brunswick to allow exceptions to hotel sel...   \n",
       "3     N.B. COVID-19 roundup: 2nd pandemic election b...   \n",
       "4     N.B. rotational workers disheartened after sud...   \n",
       "...                                                 ...   \n",
       "2965  ADAC Reiseführer Israel und Palästina TRAVELGU...   \n",
       "2966  Gefühlsdoping: Was kann der Liebestrank für an...   \n",
       "2967                                  Franziska Knupper   \n",
       "2968                              Social Media Intifada   \n",
       "2969                                  Franziska Knupper   \n",
       "\n",
       "                                            description  \\\n",
       "0     Hundreds of people are drastically changing th...   \n",
       "1     © Shane Fowler/CBC The Delta Fredericton is on...   \n",
       "2     New Brunswick is easing self-isolation rules a...   \n",
       "3     New Brunswickers are beginning to cast ballots...   \n",
       "4     New Brunswick had announced loosened restricti...   \n",
       "...                                                 ...   \n",
       "2965  8 subscriptions and 3 subscribersBookADAC Reis...   \n",
       "2966  8 subscriptions and 3 subscribersGefühlsdoping...   \n",
       "2967  8 subscriptions and 3 subscribershttp://www.sw...   \n",
       "2968  Article: Israel, Nahostkonflikt, Middle East, ...   \n",
       "2969  Reportage spécial: Bildung, Universität, Israe...   \n",
       "\n",
       "                                                content  \\\n",
       "0     homesteading lifestyle make comeback new bruns...   \n",
       "1     province allow exception hotel selfisolation r...   \n",
       "2     new brunswick allow exception hotel selfisolat...   \n",
       "3     nb covid roundup nd pandemic election begin ad...   \n",
       "4     nb rotational worker disheartened sudden chang...   \n",
       "...                                                 ...   \n",
       "2965  adac reiseführer israel und palästina travelgu...   \n",
       "2966  gefühlsdoping kann der liebestrank für angekna...   \n",
       "2967  franziska knupperfranziska knupperfranziska kn...   \n",
       "2968  social medium intifadasocial medium intifadaso...   \n",
       "2969  franziska knupperfranziska knupperfranziska kn...   \n",
       "\n",
       "                           beat  \\\n",
       "0     Canada, Crime and Justice   \n",
       "1     Canada, Crime and Justice   \n",
       "2     Canada, Crime and Justice   \n",
       "3     Canada, Crime and Justice   \n",
       "4     Canada, Crime and Justice   \n",
       "...                         ...   \n",
       "2965                     Israel   \n",
       "2966                     Israel   \n",
       "2967                     Israel   \n",
       "2968                     Israel   \n",
       "2969                     Israel   \n",
       "\n",
       "                                              predicted  \n",
       "0                                                [(-,)]  \n",
       "1                    [(-, Content Source Geo, Country)]  \n",
       "2                    [(-, Content Source Geo, Country)]  \n",
       "3                                                [(-,)]  \n",
       "4                                                [(-,)]  \n",
       "...                                                 ...  \n",
       "2965                 [(-, Content Source Geo, Country)]  \n",
       "2966                                             [(-,)]  \n",
       "2967                                             [(-,)]  \n",
       "2968  [(Computing, Internet, Social Networking, Tech...  \n",
       "2969                 [(-, Content Source Geo, Country)]  \n",
       "\n",
       "[2970 rows x 7 columns]"
      ]
     },
     "execution_count": 33,
     "metadata": {},
     "output_type": "execute_result"
    }
   ],
   "source": [
    "analyze_df"
   ]
  },
  {
   "cell_type": "code",
   "execution_count": 34,
   "metadata": {},
   "outputs": [],
   "source": [
    "analyze_df.to_csv('../Data/double_randomized_results3.csv')"
   ]
  }
 ],
 "metadata": {
  "kernelspec": {
   "display_name": "Python 3",
   "language": "python",
   "name": "python3"
  },
  "language_info": {
   "codemirror_mode": {
    "name": "ipython",
    "version": 3
   },
   "file_extension": ".py",
   "mimetype": "text/x-python",
   "name": "python",
   "nbconvert_exporter": "python",
   "pygments_lexer": "ipython3",
   "version": "3.8.5"
  },
  "varInspector": {
   "cols": {
    "lenName": 16,
    "lenType": 16,
    "lenVar": 40
   },
   "kernels_config": {
    "python": {
     "delete_cmd_postfix": "",
     "delete_cmd_prefix": "del ",
     "library": "var_list.py",
     "varRefreshCmd": "print(var_dic_list())"
    },
    "r": {
     "delete_cmd_postfix": ") ",
     "delete_cmd_prefix": "rm(",
     "library": "var_list.r",
     "varRefreshCmd": "cat(var_dic_list()) "
    }
   },
   "types_to_exclude": [
    "module",
    "function",
    "builtin_function_or_method",
    "instance",
    "_Feature"
   ],
   "window_display": false
  }
 },
 "nbformat": 4,
 "nbformat_minor": 4
}
